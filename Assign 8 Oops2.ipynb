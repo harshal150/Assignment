{
 "cells": [
  {
   "cell_type": "code",
   "execution_count": 1,
   "id": "c133ac1a-4351-4bb3-a11c-3664c928d7cd",
   "metadata": {},
   "outputs": [],
   "source": [
    "# Q1. What is Abstraction in OOps? Explain with an example. "
   ]
  },
  {
   "cell_type": "code",
   "execution_count": 6,
   "id": "33b6c55b-9ead-45d5-a4f7-837520a90787",
   "metadata": {},
   "outputs": [
    {
     "name": "stdout",
     "output_type": "stream",
     "text": [
      "True\n",
      "True\n"
     ]
    }
   ],
   "source": [
    "# Abstraction is the process of hiding the internal details of an application from the outer world. \n",
    "# Abstraction is used to describe things in simple terms. It’s used to create a boundary between the \n",
    "# application and the client programs.\n",
    "\n",
    "# Objects are the building blocks of Object-Oriented Programming. An object contains some properties and methods.\n",
    "# We can hide them from the outer world through access modifiers. We can provide access only for required \n",
    "# functions and properties to the other programs. This is the general procedure to implement abstraction in OOPS.\n",
    "\n",
    "# Python program showing\n",
    "# implementation of abstract\n",
    "# class through subclassing\n",
    "\n",
    "import abc\n",
    "\n",
    "class parent:\t\n",
    "\tdef ex1(self):\n",
    "\t\tpass\n",
    "\n",
    "class child(parent):\n",
    "\tdef ex2(self):\n",
    "\t\tprint(\"child class\")\n",
    "\n",
    "print( issubclass(child, parent))\n",
    "print( isinstance(child(), parent))\n"
   ]
  },
  {
   "cell_type": "code",
   "execution_count": null,
   "id": "b75ba876-9eca-422b-b90a-3742dc87a091",
   "metadata": {},
   "outputs": [],
   "source": []
  },
  {
   "cell_type": "code",
   "execution_count": 7,
   "id": "844899d9-368e-4ca5-99d0-6c567adacd6d",
   "metadata": {},
   "outputs": [],
   "source": [
    "# Q2. Differentiate between Abstraction and Encapsulation. Explain with an example."
   ]
  },
  {
   "cell_type": "code",
   "execution_count": 9,
   "id": "1cf06830-297e-4fd2-b81f-ae2666253fd3",
   "metadata": {},
   "outputs": [
    {
     "name": "stdout",
     "output_type": "stream",
     "text": [
      "True\n",
      "True\n",
      "rohit\n"
     ]
    }
   ],
   "source": [
    "# Abstraction\n",
    "# Abstraction is the concept of object-oriented programming that \"shows\" only essential attributes and \"hides\" \n",
    "# unnecessary information. The main purpose of abstraction is hiding the unnecessary details from the users. \n",
    "# Abstraction is selecting data from a larger pool to show only relevant details of the object to the user.\n",
    "# It helps in reducing programming complexity and efforts. It is one of the most important concepts of OOPs.\n",
    "\n",
    "import abc\n",
    "\n",
    "class parent:\t\n",
    "\tdef ex1(self):\n",
    "\t\tpass\n",
    "\n",
    "class child(parent):\n",
    "\tdef ex2(self):\n",
    "\t\tprint(\"child class\")\n",
    "\n",
    "print( issubclass(child, parent))\n",
    "print( isinstance(child(), parent))\n",
    "\n",
    "# Encapsulation\n",
    "# Encapsulation is a method of making a complex system easier to handle for end users. \n",
    "# The user need not worry about internal details and complexities of the system. Encapsulation is \n",
    "# a process of wrapping the data and the code, that operate on the data into a single entity. You can assume it \n",
    "# as a protective wrapper that stops random access of code defined outside that wrapper.\n",
    "\n",
    "# Python program to\n",
    "# demonstrate private members\n",
    "\n",
    "# Creating a Base class\n",
    "\n",
    "\n",
    "class Base:\n",
    "\tdef __init__(self):\n",
    "\t\tself.a = \"rohit\"\n",
    "\t\tself.__c = \"harsh\"\n",
    "\n",
    "class Derived(Base):\n",
    "\tdef __init__(self):\n",
    "\n",
    "\t\t\n",
    "\t\tBase.__init__(self)\n",
    "\t\tprint(\"Calling private member of base class: \")\n",
    "\t\tprint(self.__c)\n",
    "\n",
    "obj1 = Base()\n",
    "print(obj1.a)  \n"
   ]
  },
  {
   "cell_type": "code",
   "execution_count": null,
   "id": "f3683a08-22f5-4427-959b-f77b8bdab346",
   "metadata": {},
   "outputs": [],
   "source": []
  },
  {
   "cell_type": "code",
   "execution_count": 10,
   "id": "4fa9d311-92bf-491e-bbc6-84e70c3b661f",
   "metadata": {},
   "outputs": [],
   "source": [
    "# Q3. What is abc module in python? Why is it used? "
   ]
  },
  {
   "cell_type": "code",
   "execution_count": 11,
   "id": "83ac91a3-5aa0-4997-a8a2-ca0a33bd71a7",
   "metadata": {},
   "outputs": [
    {
     "name": "stdout",
     "output_type": "stream",
     "text": [
      "<class 'dict'>\n"
     ]
    }
   ],
   "source": [
    "# Python has a module called abc (abstract base class) that offers the necessary tools for \n",
    "# crafting an abstract base class. First and foremost, you should understand the ABCMeta metaclass\n",
    "# provided by the abstract base class. The rule is every abstract class must use ABCMeta metaclass.\n",
    "\n",
    "# ABCMeta metaclass provides a method called register method that can be invoked by its instance.\n",
    "# By using this register method, any abstract base class can become an ancestor of any arbitrary concrete class.\n",
    "# Let’s understand this process by considering an example of an abstract base class that registers itself as an\n",
    "# ancestor of dict.\n",
    "\n",
    "import abc\n",
    "\n",
    "\n",
    "class AbstractClass(metaclass=abc.ABCMeta):\n",
    "\tdef abstractfunc(self):\n",
    "\t\treturn None\n",
    "\n",
    "\n",
    "print(AbstractClass.register(dict))\n"
   ]
  },
  {
   "cell_type": "code",
   "execution_count": null,
   "id": "f4de9721-4588-47b2-ad71-0f9771276e7d",
   "metadata": {},
   "outputs": [],
   "source": []
  },
  {
   "cell_type": "code",
   "execution_count": 12,
   "id": "5db4ab8f-20e8-4438-af53-cd7c6d0497e8",
   "metadata": {},
   "outputs": [],
   "source": [
    "# Q4. How can we achieve data abstraction? "
   ]
  },
  {
   "cell_type": "code",
   "execution_count": 13,
   "id": "622ec35c-d8e4-4709-846a-6af9e949e70a",
   "metadata": {},
   "outputs": [],
   "source": [
    "# Data Abstraction in Python is the process of hiding the real implementation of an application from the \n",
    "# user and emphasizing only on usage of it. Basically, Abstraction focuses on hiding the internal\n",
    "# implementationsof a process or method from the user.\n",
    "\n",
    "# In Python, abstraction can be achieved by having/using abstract classes and methods in our programs.\n",
    "# Understanding Abstract Methods and Classes: \n",
    "# An abstract method is a method that is declared, but does not contain implementation.\n"
   ]
  },
  {
   "cell_type": "code",
   "execution_count": null,
   "id": "bd09eacf-16f0-49dd-8350-de0f7b48db38",
   "metadata": {},
   "outputs": [],
   "source": []
  },
  {
   "cell_type": "code",
   "execution_count": 14,
   "id": "92f8504d-3a04-48fa-ac06-c2d38ce9bf8d",
   "metadata": {},
   "outputs": [],
   "source": [
    "# Q5. Can we create an instance of an abstract class? Explain your answer. "
   ]
  },
  {
   "cell_type": "code",
   "execution_count": null,
   "id": "268b4e8a-b067-470b-afe8-5c10081062a6",
   "metadata": {},
   "outputs": [],
   "source": [
    "# Abstract classes cannot be instantiated, but they can be subclassed. When an abstract class is subclassed,\n",
    "# the subclass usually provides implementations for all of the abstract methods in its parent class. However,\n",
    "# if it does not, then the subclass must also be declared abstract ."
   ]
  }
 ],
 "metadata": {
  "kernelspec": {
   "display_name": "Python 3 (ipykernel)",
   "language": "python",
   "name": "python3"
  },
  "language_info": {
   "codemirror_mode": {
    "name": "ipython",
    "version": 3
   },
   "file_extension": ".py",
   "mimetype": "text/x-python",
   "name": "python",
   "nbconvert_exporter": "python",
   "pygments_lexer": "ipython3",
   "version": "3.10.8"
  }
 },
 "nbformat": 4,
 "nbformat_minor": 5
}

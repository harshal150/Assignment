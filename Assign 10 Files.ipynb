{
 "cells": [
  {
   "cell_type": "code",
   "execution_count": 1,
   "id": "86166cc0-2b27-4579-aeca-9851ffdebb02",
   "metadata": {},
   "outputs": [],
   "source": [
    "# Q1. Which function is used to open a file? What are the different modes of opening a file?\n",
    "# Explain each mode of file opening."
   ]
  },
  {
   "cell_type": "code",
   "execution_count": 2,
   "id": "333fc277-4846-47db-8b54-40e610874aae",
   "metadata": {},
   "outputs": [],
   "source": [
    "# open() function is used to open a file\n",
    "\n",
    "# Diffrent Mode :\n",
    "# 'r' open for reading (default)\n",
    "# 'w' open for writing, truncating the file first\n",
    "# 'x' create a new file and open it for writing\n",
    "# 'a' open for writing, appending to the end of the file if it exists\n",
    "# 'b' binary mode\n",
    "# 't' text mode (default)\n",
    "# '+' open a disk file for updating (reading and writing)\n",
    "# 'U' universal newline mode (deprecated)"
   ]
  },
  {
   "cell_type": "code",
   "execution_count": null,
   "id": "cca24f50-0630-4bd1-b4d6-278784511b72",
   "metadata": {},
   "outputs": [],
   "source": []
  },
  {
   "cell_type": "code",
   "execution_count": 3,
   "id": "cfc66cb7-6acd-4b66-8a1a-89194c1992e3",
   "metadata": {},
   "outputs": [],
   "source": [
    "#Q2. Why close() function is used? Why is it important to close a file?"
   ]
  },
  {
   "cell_type": "code",
   "execution_count": 4,
   "id": "62fbb0c3-c099-4a57-9477-a7221a92dc5a",
   "metadata": {},
   "outputs": [],
   "source": [
    "# ANS\n",
    "# close() is used to tell python compiler that the file is completed with writing now you can save\n",
    "# it and show\n",
    "# close() function is important as if we don't close after writing into the file it will not be saved and\n",
    "# can't be displayed\n"
   ]
  },
  {
   "cell_type": "code",
   "execution_count": null,
   "id": "75ea45aa-c2e6-4877-9fc4-96fb8dcf5cc9",
   "metadata": {},
   "outputs": [],
   "source": []
  },
  {
   "cell_type": "code",
   "execution_count": 5,
   "id": "f7dedaec-3454-461f-bd8a-41b4285fb951",
   "metadata": {},
   "outputs": [],
   "source": [
    "# Q3. Write a python program to create a text file. Write ‘I want to become a Data Scientist’ in that file. \n",
    "# Then close the file. Open this file and read the content of the file."
   ]
  },
  {
   "cell_type": "code",
   "execution_count": 7,
   "id": "55028a53-59f3-40a6-af9f-7defc32d141c",
   "metadata": {},
   "outputs": [],
   "source": [
    "# creating the file\n",
    "f1=open(file=\"harshal.txt\", mode='w')"
   ]
  },
  {
   "cell_type": "code",
   "execution_count": 8,
   "id": "739a3204-b3e1-44e7-bf89-48582db5eabd",
   "metadata": {},
   "outputs": [
    {
     "data": {
      "text/plain": [
       "'I want to become a Data Scientist'"
      ]
     },
     "execution_count": 8,
     "metadata": {},
     "output_type": "execute_result"
    }
   ],
   "source": [
    "# writing into the file\n",
    "f1.write(\"I want to become a Data Scientist\")\n",
    "\n",
    "#closing the file\n",
    "\n",
    "f1.close()\n",
    "\n",
    "# reading the file\n",
    "f2=open(\"harshal.txt\", mode=\"r\") # changing the mode\n",
    "f2.read() # reading the file"
   ]
  },
  {
   "cell_type": "code",
   "execution_count": 9,
   "id": "a123319c-6ed5-4251-a036-c5b2fdbc21ec",
   "metadata": {},
   "outputs": [],
   "source": [
    "f2.close()"
   ]
  },
  {
   "cell_type": "code",
   "execution_count": null,
   "id": "59d017f6-c7cd-4898-a64a-90411ed75321",
   "metadata": {},
   "outputs": [],
   "source": []
  },
  {
   "cell_type": "code",
   "execution_count": 10,
   "id": "bcedee62-714e-423b-b4dc-1c04a054bd1b",
   "metadata": {},
   "outputs": [],
   "source": [
    "#Q4. Explain the following with python code: read(), readline() and readlines()."
   ]
  },
  {
   "cell_type": "code",
   "execution_count": 12,
   "id": "51cae116-1934-42b6-a311-9ca45686e07d",
   "metadata": {},
   "outputs": [
    {
     "data": {
      "text/plain": [
       "'I want to become a Data Scientist'"
      ]
     },
     "execution_count": 12,
     "metadata": {},
     "output_type": "execute_result"
    }
   ],
   "source": [
    "# read() function wil simpliy retrun the entire text file \n",
    "f3=open(\"harshal.txt\", \"r\")\n",
    "f3.read()"
   ]
  },
  {
   "cell_type": "code",
   "execution_count": 13,
   "id": "07523181-3acf-4ef8-8e25-70463924e5de",
   "metadata": {},
   "outputs": [
    {
     "data": {
      "text/plain": [
       "'become a Data Scientist'"
      ]
     },
     "execution_count": 13,
     "metadata": {},
     "output_type": "execute_result"
    }
   ],
   "source": [
    "# readline() function allows which index we need to see the data suppose we need to see the data from 10th index\n",
    "\n",
    "f3.seek(10)\n",
    "f3.readline() # it will return in string format"
   ]
  },
  {
   "cell_type": "code",
   "execution_count": 15,
   "id": "994fa423-4a25-4043-8fb1-d43c4732609a",
   "metadata": {},
   "outputs": [
    {
     "name": "stdout",
     "output_type": "stream",
     "text": [
      "['t to become a Data Scientist']\n"
     ]
    }
   ],
   "source": [
    "# readlines() function will can take the data from specific index and return in a string of lsit form \n",
    "\n",
    "f4=open(\"harshal1.txt\", mode=\"w\")\n",
    "f4.write(\"I am harshal I like to do coding\")\n",
    "f4.close()\n",
    "with open(\"harshal.txt\") as fx:\n",
    "    fx.seek(5)\n",
    "    print(fx.readlines())\n",
    "    "
   ]
  },
  {
   "cell_type": "code",
   "execution_count": null,
   "id": "0703d14d-719f-4218-8bb9-537d833bbd4f",
   "metadata": {},
   "outputs": [],
   "source": []
  },
  {
   "cell_type": "code",
   "execution_count": 16,
   "id": "e9d48139-49db-40e0-be49-8cf273670eee",
   "metadata": {},
   "outputs": [],
   "source": [
    "#Q5. Explain why with statement is used with open(). What is the advantage of using with statement \n",
    "# and open() together?"
   ]
  },
  {
   "cell_type": "code",
   "execution_count": 17,
   "id": "f8202982-3cac-4f2e-994a-7037a9884d7f",
   "metadata": {},
   "outputs": [
    {
     "name": "stdout",
     "output_type": "stream",
     "text": [
      "I want to become a Data Scientist\n"
     ]
    }
   ],
   "source": [
    "# ANS\n",
    "# Benefits of calling open () using “with statement” : Fewer chances of bug due to coding error With \n",
    "# “with” statement we don’t have to close the opened file manually. It takes care of that when the compiler\n",
    "# goes out of the block and automatically closes file.\n",
    "\n",
    "# example\n",
    "with open(\"harshal.txt\", 'r') as f:\n",
    "    print(f.read())"
   ]
  },
  {
   "cell_type": "code",
   "execution_count": null,
   "id": "5cd81034-8527-4c80-aac6-43ac7c666e13",
   "metadata": {},
   "outputs": [],
   "source": []
  },
  {
   "cell_type": "code",
   "execution_count": 18,
   "id": "88eab30d-9436-4fdd-bb92-ad49d65ee1ef",
   "metadata": {},
   "outputs": [],
   "source": [
    "#Q6. Explain the write() and writelines() functions. Give a suitable example."
   ]
  },
  {
   "cell_type": "code",
   "execution_count": 19,
   "id": "1aa5eff0-4740-4367-ae8d-6b5b5f124679",
   "metadata": {},
   "outputs": [],
   "source": [
    "# ANS\n",
    "# Write() method displays the output but do not provide a new line character.\n",
    "# WriteLine() method displays the output and also provides a new line character it the end of the string,\n",
    "# This would set a new line for the next output.\n",
    "\n",
    "# example write\n",
    "f5= open(\"harshal3\", 'w')\n",
    "f5.write(\"Explain the write() and writelines() functions. Give a suitable example,  \\\n",
    "Explain the write() and writelines() functions. Give a suitable example\")\n",
    "f5.close()"
   ]
  },
  {
   "cell_type": "code",
   "execution_count": 20,
   "id": "e05bb7ed-3ac1-4437-8423-726a4381f65e",
   "metadata": {},
   "outputs": [
    {
     "name": "stdin",
     "output_type": "stream",
     "text": [
      "Write your text:  harshal sunil patil\n",
      "Write your text:  zeal education society\n",
      "Write your text:  narhe pune\n"
     ]
    },
    {
     "name": "stdout",
     "output_type": "stream",
     "text": [
      "Data is written into the file.\n"
     ]
    }
   ],
   "source": [
    "# example write\n",
    "\n",
    "file5 = open(\"harshal5.txt\", \"w\")\n",
    "lst = []\n",
    "for i in range(3):\n",
    "    name = input(\"Write your text: \")\n",
    "    lst.append(name)\n",
    "    \n",
    "lst=\".\".join(lst)    \n",
    "file5.writelines(lst)\n",
    "file5.close()\n",
    "print(\"Data is written into the file.\")"
   ]
  },
  {
   "cell_type": "code",
   "execution_count": 21,
   "id": "7f57e74a-b6c4-48b2-af3a-c65f5cb9e638",
   "metadata": {},
   "outputs": [
    {
     "data": {
      "text/plain": [
       "'harshal sunil patil.zeal education society.narhe pune'"
      ]
     },
     "execution_count": 21,
     "metadata": {},
     "output_type": "execute_result"
    }
   ],
   "source": [
    "file5_read=open(\"harshal5.txt\", \"r\")\n",
    "file5_read.read()"
   ]
  },
  {
   "cell_type": "code",
   "execution_count": null,
   "id": "3424e1cb-4e46-44a1-8db6-11935b478fbc",
   "metadata": {},
   "outputs": [],
   "source": []
  }
 ],
 "metadata": {
  "kernelspec": {
   "display_name": "Python 3 (ipykernel)",
   "language": "python",
   "name": "python3"
  },
  "language_info": {
   "codemirror_mode": {
    "name": "ipython",
    "version": 3
   },
   "file_extension": ".py",
   "mimetype": "text/x-python",
   "name": "python",
   "nbconvert_exporter": "python",
   "pygments_lexer": "ipython3",
   "version": "3.10.8"
  }
 },
 "nbformat": 4,
 "nbformat_minor": 5
}

{
 "cells": [
  {
   "cell_type": "code",
   "execution_count": 1,
   "id": "acf103b4-f124-45df-b1bf-f10213c69ef0",
   "metadata": {},
   "outputs": [],
   "source": [
    "# Q1.what is multithreading in python? why is it used? Name the module used to handle threads in python"
   ]
  },
  {
   "cell_type": "code",
   "execution_count": 2,
   "id": "ecfc5b6c-f80f-4b88-b8ec-a0d76b72cd20",
   "metadata": {},
   "outputs": [],
   "source": [
    "# Multithreading in Python is the ability of a program to concurrently execute multiple threads or parts of a program. In other \n",
    "# words, it allows a program to perform multithread.\n",
    "\n",
    "# Multithreading is used in Python to improve the performance of a program by making it more responsive and efficient,\n",
    "# especially in cases where the program needs to perform multiple tasks concurrently, such as handling user input, responding to\n",
    "# network requests, and performing complex calculations.\n",
    "\n",
    "# The threading module is used to handle threads in Python. This module provides a simple way to create, start, and manage\n",
    "# threads in a Python program."
   ]
  },
  {
   "cell_type": "code",
   "execution_count": null,
   "id": "d32c3b36-1ae9-468e-b209-a4aaf45a0cf9",
   "metadata": {},
   "outputs": [],
   "source": []
  },
  {
   "cell_type": "code",
   "execution_count": 3,
   "id": "32fa56ca-3c77-4998-9660-c66cbd9052f5",
   "metadata": {},
   "outputs": [],
   "source": [
    "# Q2.why threading module used?write the use of the following functions\n",
    "# 1.activeCount()\n",
    "# 2.currentThread()\n",
    "# 3.enumerate()"
   ]
  },
  {
   "cell_type": "code",
   "execution_count": 4,
   "id": "b343897d-4d50-4f8a-8bfb-b1cedd1fce72",
   "metadata": {},
   "outputs": [],
   "source": [
    "# The threading module in Python is used to create and manage threads in a program. It provides a simple and efficient way to \n",
    "# write concurrent programs, which can improve the performance and responsiveness of a program. Here are some common use cases \n",
    "# of the threading module:\n",
    "\n",
    "# 1.activeCount(): This function is used to get the number of currently active threads in a Python program. It returns an integer\n",
    "# value, which indicates the total number of threads that are currently running, including the main thread. This function can be\n",
    "# useful for monitoring the performance of a program and identifying any potential bottlenecks that may be caused by excessive\n",
    "# thread creation.\n",
    "\n",
    "# 2.currentThread(): This function is used to get a reference to the currently executing thread in a Python program. It returns\n",
    "# a Thread object, which represents the thread that is currently running. This function can be used to perform various operations\n",
    "# on the current thread, such as setting or getting the name of the thread, identifying its ID, or checking if it is a daemon \n",
    "# thread.\n",
    "\n",
    "# 3.enumerate(): This function is used to get a list of all active thread objects in a Python program. It returns a list of \n",
    "# Thread objects, which represent all the thread."
   ]
  },
  {
   "cell_type": "code",
   "execution_count": null,
   "id": "0602229b-e23c-4a09-ba8f-dc735d56aec2",
   "metadata": {},
   "outputs": [],
   "source": []
  },
  {
   "cell_type": "code",
   "execution_count": 5,
   "id": "6432dd66-c028-408a-a6be-e14cd1774c6f",
   "metadata": {},
   "outputs": [],
   "source": [
    "#Q3. Explain the following functions\n",
    "# 1.run()\n",
    "# 2.start()\n",
    "# 3.join()\n",
    "# 4.isAlive()"
   ]
  },
  {
   "cell_type": "code",
   "execution_count": 6,
   "id": "23c66efe-172e-4dbc-a042-5269cdfbcd7c",
   "metadata": {},
   "outputs": [],
   "source": [
    "# In Python threading module, the Thread class provides several methods for managing threads. Here are the explanations of the \n",
    "# following methods:\n",
    "\n",
    "# 1.run(): This method is the entry point for a thread execution. It defines the behavior of the thread when it is started, and \n",
    "# typically contains the code that will be executed concurrently with other threads. \n",
    "\n",
    "# 2.start(): This method is used to start a thread execution. It schedules the thread to begin running in the near future, and \n",
    "# returns immediately without waiting for the thread to complete. \n",
    "\n",
    "# 3.join(): This method is used to wait for a thread to complete its execution. When a thread is joined, the calling thread will\n",
    "# block and wait for the joined thread to complete before continuing. \n",
    "\n",
    "# 4.isAlive(): This method is used to check if a thread is currently running. It returns a boolean value, which is True if the \n",
    "# thread is still running, and False otherwise."
   ]
  },
  {
   "cell_type": "code",
   "execution_count": null,
   "id": "28d7dd98-a0db-4829-a99b-f7ed7363c0c6",
   "metadata": {},
   "outputs": [],
   "source": []
  },
  {
   "cell_type": "code",
   "execution_count": 7,
   "id": "20856f5f-7085-4b41-93fe-cb7dab713c09",
   "metadata": {},
   "outputs": [],
   "source": [
    "#Q4.write a python program to create two threads. Thread one must print the list of squares and thread\n",
    "# two must print the list of cubes."
   ]
  },
  {
   "cell_type": "code",
   "execution_count": 8,
   "id": "bfc4f831-ac7c-4ee2-a9d9-85e4f8d5e6d6",
   "metadata": {},
   "outputs": [
    {
     "name": "stdout",
     "output_type": "stream",
     "text": [
      "1\n",
      "4\n",
      "9\n",
      "16\n",
      "25\n",
      "36\n",
      "49\n",
      "64\n",
      "81\n",
      "100\n",
      "1\n",
      "8\n",
      "27\n",
      "64\n",
      "125\n",
      "216\n",
      "343\n",
      "512\n",
      "729\n",
      "1000\n",
      "both threads are complete\n"
     ]
    }
   ],
   "source": [
    "import threading\n",
    "\n",
    "def print_squares():\n",
    "    squares=[x**2 for x in range(1,11)]\n",
    "    for i in squares:\n",
    "        print(i)\n",
    "        \n",
    "def print_cubes():\n",
    "    cubes=[x**3 for x in range(1,11)]\n",
    "    for i in cubes:\n",
    "        print(i)\n",
    "        \n",
    "if __name__=='__main__':\n",
    "    \n",
    "    #create the first thread to print squares\n",
    "    r1=threading.Thread(target=print_squares)\n",
    "    \n",
    "    #create the second thread to print cubes\n",
    "    r2=threading.Thread(target=print_cubes)\n",
    "    \n",
    "    #start both threads\n",
    "    r1.start()\n",
    "    r2.start()\n",
    "    \n",
    "    #wait to start\n",
    "    r1.join()\n",
    "    r2.join()\n",
    "    \n",
    "    print('both threads are complete')"
   ]
  },
  {
   "cell_type": "code",
   "execution_count": null,
   "id": "e561f8a9-186e-4aef-8194-e9030c557372",
   "metadata": {},
   "outputs": [],
   "source": []
  },
  {
   "cell_type": "code",
   "execution_count": 9,
   "id": "0bae0364-f0c3-405d-8add-39af2d8411ee",
   "metadata": {},
   "outputs": [],
   "source": [
    "#Q5.State advantages and disadvantages of multithreading."
   ]
  },
  {
   "cell_type": "code",
   "execution_count": 10,
   "id": "25aff51d-2eaa-4ec4-add9-ef38eccad257",
   "metadata": {},
   "outputs": [],
   "source": [
    "# Advantages:\n",
    "\n",
    "# 1.Improved performance.\n",
    "# 2.Responsiveness.\n",
    "# 3.Resource sharing.\n",
    "# 4.Scalability.\n",
    "\n",
    "# Disadvantages:\n",
    "# 1.Complexity.\n",
    "# 2.Concurrency issues.\n",
    "# 3.Increased memory usage.\n",
    "# 4.Debugging."
   ]
  },
  {
   "cell_type": "code",
   "execution_count": null,
   "id": "c89bed54-b50b-49e5-a23a-db0a57912539",
   "metadata": {},
   "outputs": [],
   "source": []
  },
  {
   "cell_type": "code",
   "execution_count": 11,
   "id": "2626531b-3d25-482d-8edf-e5c88bd91aee",
   "metadata": {},
   "outputs": [],
   "source": [
    "#Q6.Explain deadlocks and race conditions."
   ]
  },
  {
   "cell_type": "code",
   "execution_count": 12,
   "id": "f7b6672b-00c4-4021-a79f-a352d5eaf38a",
   "metadata": {},
   "outputs": [],
   "source": [
    "# Deadlock: A deadlock occurs when two or more threads are waiting for each other to release a resources,such as a lock or a \n",
    "# semaphore,that they need to continue execution.\n",
    "# In other words,each thread is blocked and waiting for a resource that another thread is holding, and the program becomes stuck\n",
    "# in a state where no progress can be made.Deadlocks are serious problem in multithreaded programs and can be difficult to detect\n",
    "# and resolve.\n",
    "    \n",
    "# Race condition:A race condition occurs when the behaviour of a program depends on the relatives timing and interleaving of \n",
    "# events between two or more threads.\n",
    "# In other words,the outcome of the program can vary depending on the order in which the threads execute.This can lead to \n",
    "# predictable or incorrect behaviour,such as data corruption or incorrect program results.Race conditions can occurs when \n",
    "# multiple threads access and modify shared resources without proper synchronization or mutual exclusion,leading to data \n",
    "# inconsistency and errors.\n",
    "    \n",
    "# To avoid deadlocks and race condtions in multithreaded programs,it is important to follow best practices such as proper \n",
    "# synchronization and mutual exclusion,careful design and testing,and using appropriate concurrency libraries and tools.\n",
    "        "
   ]
  },
  {
   "cell_type": "code",
   "execution_count": null,
   "id": "45845656-102f-44c3-8162-6cdb7fe3757a",
   "metadata": {},
   "outputs": [],
   "source": []
  }
 ],
 "metadata": {
  "kernelspec": {
   "display_name": "Python 3 (ipykernel)",
   "language": "python",
   "name": "python3"
  },
  "language_info": {
   "codemirror_mode": {
    "name": "ipython",
    "version": 3
   },
   "file_extension": ".py",
   "mimetype": "text/x-python",
   "name": "python",
   "nbconvert_exporter": "python",
   "pygments_lexer": "ipython3",
   "version": "3.10.8"
  }
 },
 "nbformat": 4,
 "nbformat_minor": 5
}

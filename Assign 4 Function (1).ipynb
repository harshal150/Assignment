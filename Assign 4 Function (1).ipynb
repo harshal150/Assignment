{
 "cells": [
  {
   "cell_type": "code",
   "execution_count": 1,
   "id": "5feec882-08b5-45db-a0d1-d24effec9b64",
   "metadata": {},
   "outputs": [],
   "source": [
    "## Q1. Which keyword is used to create a function? Create a function to return a list of odd numbers in the \n",
    "##range of 1 to 25. "
   ]
  },
  {
   "cell_type": "code",
   "execution_count": 14,
   "id": "a4a21e11-61df-4b25-8c31-77db0a796214",
   "metadata": {},
   "outputs": [
    {
     "name": "stdout",
     "output_type": "stream",
     "text": [
      "5 7 9 11 13 15 "
     ]
    }
   ],
   "source": [
    "# ANSC- def keyword is used to create a function\n",
    "# following code return the odd number in range 1 to 25\n",
    "# Python program to print Even Numbers in given range\n",
    "\n",
    "def odd(num1,num2):\n",
    "    if num1>num2:\n",
    "        return\n",
    "    if num1&1:\n",
    "      print(num1,end=\" \")\n",
    "      return odd(num1+2,num2)\n",
    "    else:\n",
    "      return odd(num1+1,num2)\n",
    "num1=5;num2=15\n",
    "odd(num1,num2)"
   ]
  },
  {
   "cell_type": "code",
   "execution_count": null,
   "id": "fa1c3d6d-68a5-40f1-8b13-94e110472310",
   "metadata": {},
   "outputs": [],
   "source": []
  },
  {
   "cell_type": "code",
   "execution_count": 15,
   "id": "18fce800-a9da-4127-93ca-c855406295a2",
   "metadata": {},
   "outputs": [],
   "source": [
    "## Q2. Why *args and **kwargs is used in some functions? Create a function each for *args and **kwargs  \n",
    "## to demonstrate their use. "
   ]
  },
  {
   "cell_type": "code",
   "execution_count": 16,
   "id": "4c71f044-0ed5-4ce8-8170-b0e7d0c5d51c",
   "metadata": {},
   "outputs": [],
   "source": [
    "# Python has *args which allow us to pass the variable number of non keyword arguments to function.\n",
    "# In the function, we should use an asterisk * before the parameter name to pass variable length arguments.\n",
    "# The arguments are passed as a tuple and these passed arguments make tuple inside the function with same name as\n",
    "# the parameter excluding asterisk\n",
    "\n",
    "# it allows us to pass the variable length of keyword arguments to the function.\n",
    "# In the function, we use the double asterisk ** before the parameter name to denote this type of argument.\n",
    "# The arguments are passed as a dictionary and these arguments make a dictionary inside function with name same as\n",
    "# the parameter excluding double asterisk"
   ]
  },
  {
   "cell_type": "code",
   "execution_count": 18,
   "id": "9704f7c7-856b-49a8-9698-99ee4154ea6c",
   "metadata": {},
   "outputs": [
    {
     "name": "stdout",
     "output_type": "stream",
     "text": [
      "First argument : Hello\n",
      "Next argument through *argv : Welcome\n",
      "Next argument through *argv : \n",
      "Next argument through *argv : harshal\n"
     ]
    }
   ],
   "source": [
    "def myFun(arg1, *argv):\n",
    "\tprint(\"First argument :\", arg1)\n",
    "\tfor arg in argv:\n",
    "\t\tprint(\"Next argument through *argv :\", arg)\n",
    "\n",
    "\n",
    "myFun('Hello', 'Welcome', '', 'harshal')\n"
   ]
  },
  {
   "cell_type": "code",
   "execution_count": 19,
   "id": "db98dc17-7b05-4aea-9531-6fdd7634216c",
   "metadata": {},
   "outputs": [
    {
     "name": "stdout",
     "output_type": "stream",
     "text": [
      "first == harsal\n",
      "mid == sunil\n",
      "last == patil\n"
     ]
    }
   ],
   "source": [
    "def myFun(**kwargs):\n",
    "\tfor key, value in kwargs.items():\n",
    "\t\tprint(\"%s == %s\" % (key, value))\n",
    "\n",
    "\n",
    "# Driver code\n",
    "myFun(first='harsal', mid='sunil', last='patil')\n"
   ]
  },
  {
   "cell_type": "code",
   "execution_count": null,
   "id": "bb10bdf5-4b7d-40fb-b102-dc12563da11f",
   "metadata": {},
   "outputs": [],
   "source": []
  },
  {
   "cell_type": "code",
   "execution_count": 20,
   "id": "8cc85937-9cdf-403f-8711-2edd31e46e3b",
   "metadata": {},
   "outputs": [],
   "source": [
    "##Q3.  What is an iterator in python? Name the method used to initialise the iterator object and the method \n",
    "# used for iteration. Use these methods to print the first five elements of the given\n",
    "# list [2, 4, 6, 8, 10, 12, 14,  16, 18, 20]. "
   ]
  },
  {
   "cell_type": "code",
   "execution_count": 7,
   "id": "85923b4e-c269-4c93-8b21-2ade6136b2a8",
   "metadata": {},
   "outputs": [
    {
     "name": "stdout",
     "output_type": "stream",
     "text": [
      "2\n",
      "4\n",
      "6\n",
      "8\n",
      "10\n"
     ]
    }
   ],
   "source": [
    "# An iterator is an object that contains a countable number of values. \n",
    "# An iterator is an object that can be iterated upon, meaning that you can traverse through all the values.\n",
    "# Technically, in Python, an iterator is an object which implements the iterator protocol, \n",
    "# which consist of the methods __iter__() and __next__() .\n",
    "    \n",
    "l =  [2, 4, 6, 8, 10, 12, 14,  16, 18, 20]\n",
    "ch_iterator = iter(l)\n",
    "\n",
    "print(next(ch_iterator))\n",
    "print(next(ch_iterator))\n",
    "print(next(ch_iterator))\n",
    "print(next(ch_iterator))\n",
    "print(next(ch_iterator))\n"
   ]
  },
  {
   "cell_type": "code",
   "execution_count": null,
   "id": "531ea268-4601-426c-9237-16ea6837247a",
   "metadata": {},
   "outputs": [],
   "source": []
  },
  {
   "cell_type": "code",
   "execution_count": 8,
   "id": "92e906df-39f3-4860-85db-cb198da14847",
   "metadata": {},
   "outputs": [],
   "source": [
    "## Q4.  What is a generator function in python? Why yield keyword is used? Give an example of a generator function"
   ]
  },
  {
   "cell_type": "code",
   "execution_count": 9,
   "id": "af29d9c0-e53d-48f7-9422-3e450b1f0d31",
   "metadata": {},
   "outputs": [
    {
     "name": "stdout",
     "output_type": "stream",
     "text": [
      "0\n",
      "1\n",
      "4\n",
      "9\n",
      "16\n"
     ]
    }
   ],
   "source": [
    "# In Python, a generator is a function that returns an iterator that produces a sequence of values when\n",
    "# iterated over. Generators are useful when we want to produce a large sequence of values, but we\n",
    "# don't want to store all of them in memory at once.\n",
    "\n",
    "# yield keyword is used to create a generator function. A type of function that is memory efficient and \n",
    "# can be used like an iterator object. In layman terms, the yield keyword will turn any expression that is \n",
    "# given with it into a generator object and return it to the caller.\n",
    "\n",
    "# create the generator object\n",
    "squares_generator = (i * i for i in range(5))\n",
    "\n",
    "# iterate over the generator and print the values\n",
    "for i in squares_generator:\n",
    "    print(i)"
   ]
  },
  {
   "cell_type": "code",
   "execution_count": null,
   "id": "435d7f4e-9de6-4568-a4ec-db62558864e3",
   "metadata": {},
   "outputs": [],
   "source": []
  },
  {
   "cell_type": "code",
   "execution_count": 10,
   "id": "82d9fdda-1d9c-49af-82b5-bc4a21c55abc",
   "metadata": {},
   "outputs": [],
   "source": [
    "## Q5. Create a generator function for prime numbers less than 1000. Use the next() method to print the \n",
    " #first 20 prime numbers."
   ]
  },
  {
   "cell_type": "code",
   "execution_count": 11,
   "id": "8aa2adcd-39b2-4a4d-a1e6-37b809c9897a",
   "metadata": {},
   "outputs": [
    {
     "name": "stdout",
     "output_type": "stream",
     "text": [
      "2 3 5 7 "
     ]
    }
   ],
   "source": [
    "# Python3 program to print\n",
    "# all primes less than N\n",
    "\n",
    "# Function to check whether\n",
    "# a number is prime or not .\n",
    "def isPrime(n):\n",
    "\t\n",
    "\t# Corner case\n",
    "\tif n <= 1 :\n",
    "\t\treturn False\n",
    "\n",
    "\t# check from 2 to n-1\n",
    "\tfor i in range(2, n):\n",
    "\t\tif n % i == 0:\n",
    "\t\t\treturn False\n",
    "\n",
    "\treturn True\n",
    "\n",
    "# Function to print primes\n",
    "def printPrime(n):\n",
    "\tfor i in range(2, n + 1):\n",
    "\t\tif isPrime(i):\n",
    "\t\t\tprint(i, end = \" \")\n",
    "\n",
    "# Driver code\n",
    "if __name__ == \"__main__\" :\n",
    "\tn = 7\n",
    "\t# function calling\n",
    "\tprintPrime(n)\n",
    "\t"
   ]
  },
  {
   "cell_type": "code",
   "execution_count": null,
   "id": "77bfabc5-e2cd-4dc7-a767-93ccf0d29243",
   "metadata": {},
   "outputs": [],
   "source": []
  },
  {
   "cell_type": "code",
   "execution_count": 14,
   "id": "e7b592cf-7ae9-4384-a605-82d21f492493",
   "metadata": {},
   "outputs": [],
   "source": [
    "## Q6. Write a python program to print the first 10 Fibonacci numbers using a while loop"
   ]
  },
  {
   "cell_type": "code",
   "execution_count": 15,
   "id": "f56af2ca-74e5-4155-88ce-0c37a65497c0",
   "metadata": {},
   "outputs": [
    {
     "name": "stdin",
     "output_type": "stream",
     "text": [
      " 10\n"
     ]
    },
    {
     "name": "stdout",
     "output_type": "stream",
     "text": [
      "Fibonacci series is:  0 1 0 1 1 2 3 5 8 13 "
     ]
    }
   ],
   "source": [
    "#Python program to generate Fibonacci series based on n value\n",
    "\n",
    "\n",
    "n = int(input())\n",
    "a = 0\n",
    "b = 1\n",
    "sum = 0\n",
    "count = 1\n",
    "print(\"Fibonacci series is: \", end = \" \")\n",
    "while(count <= n):\n",
    "  count += 1\n",
    "  print(a, end=\" \")\n",
    "  a = b\n",
    "  b = sum\n",
    "  sum = a + b"
   ]
  },
  {
   "cell_type": "code",
   "execution_count": null,
   "id": "94a33712-4d23-4811-8879-0f6c394ca545",
   "metadata": {},
   "outputs": [],
   "source": []
  },
  {
   "cell_type": "code",
   "execution_count": 16,
   "id": "ac52073f-6d9c-4fc8-a4c9-e76f396f4ff7",
   "metadata": {},
   "outputs": [],
   "source": [
    "## Q7. Write a List Comprehension to iterate through the given string: ‘pwskills’. \n",
    "#Expected output: ['p', 'w', 's', 'k', 'i', 'l', 'l', 's']  "
   ]
  },
  {
   "cell_type": "code",
   "execution_count": 17,
   "id": "bea8d3e0-e04d-4898-96ea-69e480060990",
   "metadata": {},
   "outputs": [
    {
     "name": "stdout",
     "output_type": "stream",
     "text": [
      "['p', 'w', 's', 'k', 'i', 'l', 'l', 's']\n"
     ]
    }
   ],
   "source": [
    "L = []\n",
    "for character in 'pwskills':\n",
    "    L.append(character)\n",
    "print(L)"
   ]
  },
  {
   "cell_type": "code",
   "execution_count": null,
   "id": "bc415a3a-0a5b-4084-98c1-edee0c4d0015",
   "metadata": {},
   "outputs": [],
   "source": []
  },
  {
   "cell_type": "code",
   "execution_count": 18,
   "id": "b4bc85de-5896-44d5-928b-e3a64ee80715",
   "metadata": {},
   "outputs": [],
   "source": [
    "##Q8. Write a python program to check whether a given number is Palindrome or not using a while loop. "
   ]
  },
  {
   "cell_type": "code",
   "execution_count": 20,
   "id": "85836d8d-39c5-474b-a83c-def6b15bfb9d",
   "metadata": {},
   "outputs": [
    {
     "name": "stdin",
     "output_type": "stream",
     "text": [
      "Enter number: 151\n"
     ]
    },
    {
     "name": "stdout",
     "output_type": "stream",
     "text": [
      "The number is a palindrome!\n"
     ]
    }
   ],
   "source": [
    "n=int(input(\"Enter number:\"))\n",
    "temp=n\n",
    "rev=0\n",
    "while(n>0):\n",
    "    dig=n%10\n",
    "    rev=rev*10+dig\n",
    "    n=n//10\n",
    "if(temp==rev):\n",
    "    print(\"The number is a palindrome!\")\n",
    "else:\n",
    "    print(\"The number isn't a palindrome!\")"
   ]
  },
  {
   "cell_type": "code",
   "execution_count": null,
   "id": "e5d58e41-7a4b-4d4f-a4ce-47719c077420",
   "metadata": {},
   "outputs": [],
   "source": []
  },
  {
   "cell_type": "code",
   "execution_count": 21,
   "id": "f53480a6-1474-4bcd-8d25-e1f65ad3bee8",
   "metadata": {},
   "outputs": [],
   "source": [
    "## Q9. Write a code to print odd numbers from 1 to 100 using list comprehension. \n",
    "# Note: Use a list comprehension to create a list from 1 to 100 and use another List comprehension\n",
    "# to filter  out odd numbers."
   ]
  },
  {
   "cell_type": "code",
   "execution_count": 22,
   "id": "af30b424-bffb-4dac-8e4b-54cfcfed7647",
   "metadata": {},
   "outputs": [
    {
     "name": "stdout",
     "output_type": "stream",
     "text": [
      "[1, 3, 5, 7, 9, 11, 13, 15, 17, 19, 21, 23, 25, 27, 29, 31, 33, 35, 37, 39, 41, 43, 45, 47, 49, 51, 53, 55, 57, 59, 61, 63, 65, 67, 69, 71, 73, 75, 77, 79, 81, 83, 85, 87, 89, 91, 93, 95, 97, 99]\n"
     ]
    }
   ],
   "source": [
    "odd_list = [element for element in range(1, 101) if element % 2 == 1 ]\n",
    "print(odd_list)"
   ]
  },
  {
   "cell_type": "code",
   "execution_count": null,
   "id": "8717e4ca-ed25-44e5-9a90-160b58a3454c",
   "metadata": {},
   "outputs": [],
   "source": []
  }
 ],
 "metadata": {
  "kernelspec": {
   "display_name": "Python 3 (ipykernel)",
   "language": "python",
   "name": "python3"
  },
  "language_info": {
   "codemirror_mode": {
    "name": "ipython",
    "version": 3
   },
   "file_extension": ".py",
   "mimetype": "text/x-python",
   "name": "python",
   "nbconvert_exporter": "python",
   "pygments_lexer": "ipython3",
   "version": "3.10.8"
  }
 },
 "nbformat": 4,
 "nbformat_minor": 5
}

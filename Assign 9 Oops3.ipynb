{
 "cells": [
  {
   "cell_type": "code",
   "execution_count": 1,
   "id": "591ebfd7-3bec-4b30-ab55-2d27d9f1da70",
   "metadata": {},
   "outputs": [],
   "source": [
    "#Q1, Create a vehicle class with an init method having instance variables as name_of_vehicle,\n",
    "# max_speed  and average_of_vehicle. "
   ]
  },
  {
   "cell_type": "code",
   "execution_count": 2,
   "id": "69ca19fc-773f-41f0-9d16-48971ae6e2f7",
   "metadata": {},
   "outputs": [],
   "source": [
    "class vehicle:\n",
    "    \n",
    "    def __init__(self,name_of_vehicle,max_speed,avg):\n",
    "        self.name_of_vehicle = name_of_vehicle\n",
    "        self.max_speed = max_speed\n",
    "        self.avg = avg"
   ]
  },
  {
   "cell_type": "code",
   "execution_count": null,
   "id": "8c2fa8ee-0376-4a89-966f-50defe2cf919",
   "metadata": {},
   "outputs": [],
   "source": []
  },
  {
   "cell_type": "code",
   "execution_count": 3,
   "id": "4bd2a474-b719-4cf5-a9e3-38c8633212d3",
   "metadata": {},
   "outputs": [],
   "source": [
    "# Q2.  Create a child class car from the vehicle class created in Que 1, which will inherit the vehicle class.\n",
    "# Create a method named seating_capacity which takes capacity as an argument and returns the name of  the \n",
    "# vehicle and its seating capacity. "
   ]
  },
  {
   "cell_type": "code",
   "execution_count": 10,
   "id": "329b0a46-45f4-4f2c-92d1-bb5c0e60f2ae",
   "metadata": {},
   "outputs": [],
   "source": [
    "class car(vehicle):\n",
    "    \n",
    "    def seating_capacity():\n",
    "        return \"seating capacity\""
   ]
  },
  {
   "cell_type": "code",
   "execution_count": 18,
   "id": "dd24c2dc-4db7-492e-ad53-726a07823395",
   "metadata": {},
   "outputs": [],
   "source": [
    "a = vehicle(\"honda\",10,20)"
   ]
  },
  {
   "cell_type": "code",
   "execution_count": 20,
   "id": "25ed9b9d-619c-42a3-a4ea-1e2c44dbc10a",
   "metadata": {},
   "outputs": [
    {
     "ename": "TypeError",
     "evalue": "'str' object is not callable",
     "output_type": "error",
     "traceback": [
      "\u001b[0;31m---------------------------------------------------------------------------\u001b[0m",
      "\u001b[0;31mTypeError\u001b[0m                                 Traceback (most recent call last)",
      "Cell \u001b[0;32mIn[20], line 1\u001b[0m\n\u001b[0;32m----> 1\u001b[0m \u001b[43ma\u001b[49m\u001b[38;5;241;43m.\u001b[39;49m\u001b[43mname_of_vehicle\u001b[49m\u001b[43m(\u001b[49m\u001b[43m)\u001b[49m \n",
      "\u001b[0;31mTypeError\u001b[0m: 'str' object is not callable"
     ]
    }
   ],
   "source": [
    "a.name_of_vehicle() "
   ]
  },
  {
   "cell_type": "code",
   "execution_count": null,
   "id": "51728cac-857f-4028-81ef-97097e6b3197",
   "metadata": {},
   "outputs": [],
   "source": []
  },
  {
   "cell_type": "code",
   "execution_count": 21,
   "id": "4d99f194-5f7b-4327-bed7-ba41c33d64ef",
   "metadata": {},
   "outputs": [],
   "source": [
    "# Q3. What is multiple inheritance? Write a python code to demonstrate multiple inheritance."
   ]
  },
  {
   "cell_type": "code",
   "execution_count": 22,
   "id": "282796bf-7859-480d-93ea-2cf790b07baa",
   "metadata": {},
   "outputs": [
    {
     "name": "stdout",
     "output_type": "stream",
     "text": [
      "In Class2\n"
     ]
    }
   ],
   "source": [
    "# When a class is derived from more than one base class it is called multiple Inheritance. \n",
    "# The derived class inherits all the features of the base case.\n",
    "\n",
    "# Syntax:\n",
    "\n",
    "# Class Base1:\n",
    "#        Body of the class\n",
    "\n",
    "# Class Base2:\n",
    "#      Body of the class\n",
    "\n",
    "# Class Derived(Base1, Base2):\n",
    "#      Body of the class\n",
    "\n",
    "# Python Program to depict multiple inheritance\n",
    "# when method is overridden in both classes\n",
    "\n",
    "class Class1:\n",
    "\tdef m(self):\n",
    "\t\tprint(\"In Class1\")\n",
    "\t\n",
    "class Class2(Class1):\n",
    "\tdef m(self):\n",
    "\t\tprint(\"In Class2\")\n",
    "\n",
    "class Class3(Class1):\n",
    "\tdef m(self):\n",
    "\t\tprint(\"In Class3\")\n",
    "\t\t\n",
    "class Class4(Class2, Class3):\n",
    "\tpass\n",
    "\t\n",
    "obj = Class4()\n",
    "obj.m()\n"
   ]
  },
  {
   "cell_type": "code",
   "execution_count": null,
   "id": "10b4d804-5336-4b7a-ba26-3323750d8a51",
   "metadata": {},
   "outputs": [],
   "source": []
  },
  {
   "cell_type": "code",
   "execution_count": 23,
   "id": "0547bd86-5d2c-497c-a249-06fddbc96f94",
   "metadata": {},
   "outputs": [],
   "source": [
    "#Q4.What are getter and setter in python? Create a class and create a getter and a setter method in this class. "
   ]
  },
  {
   "cell_type": "code",
   "execution_count": 26,
   "id": "2fa7acf6-c642-4cea-917a-e9a9960f2671",
   "metadata": {},
   "outputs": [
    {
     "name": "stdout",
     "output_type": "stream",
     "text": [
      "22\n",
      "22\n"
     ]
    }
   ],
   "source": [
    "# These methods allow you to access and mutate private attributes while maintaining encapsulation. \n",
    "# In Python, you’ll typically expose attributes as part of your public API and use properties when you \n",
    "# need attributes with functional behavior.\n",
    "\n",
    "# Even though properties are the Pythonic way to go, they can have some practical drawbacks.\n",
    "# Because of this, you’ll find some situations where getters and setters are preferable over properties.\n",
    "\n",
    "class example:   \n",
    "    def __init__(self, age = 0):   \n",
    "         self._age = age   \n",
    "      # using the getter method   \n",
    "    def get_age(self):   \n",
    "        return self._age   \n",
    "      # using the setter method   \n",
    "    def set_age(self, a):   \n",
    "        self._age = a   \n",
    "    \n",
    "harsh = example()   \n",
    "    \n",
    "#using the setter function  \n",
    "harsh.set_age(22)   \n",
    "    \n",
    "# using the getter function  \n",
    "print(harsh.get_age())   \n",
    "    \n",
    "print(harsh._age)  "
   ]
  },
  {
   "cell_type": "code",
   "execution_count": null,
   "id": "338d85a1-be51-4d94-8d12-58a8c83f3609",
   "metadata": {},
   "outputs": [],
   "source": []
  },
  {
   "cell_type": "code",
   "execution_count": 27,
   "id": "c8f7e082-3f9d-48ab-8246-6beef6ec2c71",
   "metadata": {},
   "outputs": [],
   "source": [
    "#Q5.What is method overriding in python? Write a python code to demonstrate method overriding."
   ]
  },
  {
   "cell_type": "code",
   "execution_count": 28,
   "id": "baf38c34-5081-4b95-a6b1-9ee9dd76afe0",
   "metadata": {},
   "outputs": [
    {
     "name": "stdout",
     "output_type": "stream",
     "text": [
      "The method Walk here is overridden in the code\n",
      "Hello, I am the child class\n",
      "Hello, I am the parent class\n"
     ]
    }
   ],
   "source": [
    "# Method overriding in Python is when you have two methods with the same name that each perform different tasks.\n",
    "# This is an important feature of inheritance in Python.\n",
    "\n",
    "# In method overriding, the child class can change its functions that are defined by its ancestral classes. \n",
    "# In other words, the child class has access to the properties and functions of the parent class method while\n",
    "# also extending additional functions of its own to the method. If a method in a superclass coincides with that\n",
    "# of a subclass, then the subclass is said to override the superclass.\n",
    "\n",
    "# There are two prerequisite conditions for Method overriding:\n",
    "\n",
    "# Inheritance should be present in the code, method overriding cannot be performed in the same class, \n",
    "# and overriding can only be executed when a child class is derived through inheritance.\n",
    "\n",
    "# The child class should have the same name and the same number of parameters as the parent class.\n",
    "\n",
    "class Animal:\n",
    "    def Walk(self):\n",
    "        print('Hello, I am the parent class')\n",
    "\n",
    "class Dog(Animal):\n",
    "    def Walk(self):\n",
    "        print('Hello, I am the child class')\n",
    "        \n",
    "print('The method Walk here is overridden in the code')\n",
    "\n",
    "#Invoking Child class through object r\n",
    "\n",
    "r = Dog()\n",
    "r.Walk()\n",
    "\n",
    "#Invoking Parent class through object r\n",
    "\n",
    "r = Animal()\n",
    "r.Walk()"
   ]
  },
  {
   "cell_type": "code",
   "execution_count": null,
   "id": "46552d2f-fcc6-4adb-ace9-dd7310d29e56",
   "metadata": {},
   "outputs": [],
   "source": []
  }
 ],
 "metadata": {
  "kernelspec": {
   "display_name": "Python 3 (ipykernel)",
   "language": "python",
   "name": "python3"
  },
  "language_info": {
   "codemirror_mode": {
    "name": "ipython",
    "version": 3
   },
   "file_extension": ".py",
   "mimetype": "text/x-python",
   "name": "python",
   "nbconvert_exporter": "python",
   "pygments_lexer": "ipython3",
   "version": "3.10.8"
  }
 },
 "nbformat": 4,
 "nbformat_minor": 5
}

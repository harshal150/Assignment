{
 "cells": [
  {
   "cell_type": "code",
   "execution_count": 1,
   "id": "13d7e74c-c78f-4ed4-a374-6b28c640a8d8",
   "metadata": {},
   "outputs": [],
   "source": [
    "##  Q1. Explain Class and Object with respect to Object-Oriented Programming. Give a suitable example"
   ]
  },
  {
   "cell_type": "code",
   "execution_count": 2,
   "id": "1a4edb33-542b-467a-b6d1-7a5ac1f7dcfe",
   "metadata": {},
   "outputs": [],
   "source": [
    "# A class is considered as a blueprint of objects. We can think of the class as a sketch (prototype) of a house. \n",
    "# It contains all the details about the floors, doors, windows, etc. Based on these descriptions we build the house\n",
    "# . House is the object.\n",
    "\n",
    "class Bike:\n",
    "    name = \"\"\n",
    "    gear = 0 \n",
    "    \n",
    "# An object is called an instance of a class. For example, suppose Bike is a class then we can create objects \n",
    "# like bike1, bike2, etc from the class\n",
    "\n",
    "# create class\n",
    "class Bike:\n",
    "    name = \"\"\n",
    "    gear = 0\n",
    "\n",
    "# create objects of class\n",
    "bike1 = Bike()\n"
   ]
  },
  {
   "cell_type": "code",
   "execution_count": null,
   "id": "45242d8b-832f-4fac-8bfa-250103a6805d",
   "metadata": {},
   "outputs": [],
   "source": []
  },
  {
   "cell_type": "code",
   "execution_count": 3,
   "id": "8bc91ed3-a4c1-4010-b122-c1d87bd5c3de",
   "metadata": {},
   "outputs": [],
   "source": [
    "## Q2. Name the four pillars of OOPs. "
   ]
  },
  {
   "cell_type": "code",
   "execution_count": 4,
   "id": "f4a19c6f-5de8-4984-b03c-a0729bfbc13b",
   "metadata": {},
   "outputs": [],
   "source": [
    "# The Four Pillars of Object-Oriented Programming\n",
    "# Abstraction.\n",
    "# Encapsulation.\n",
    "# Inheritance.\n",
    "# Polymorphism."
   ]
  },
  {
   "cell_type": "code",
   "execution_count": null,
   "id": "b3fb073a-48fb-452e-9c18-4a4b8e6af1e3",
   "metadata": {},
   "outputs": [],
   "source": []
  },
  {
   "cell_type": "code",
   "execution_count": 5,
   "id": "29998169-80db-45f1-9713-1123ef0efb8e",
   "metadata": {},
   "outputs": [],
   "source": [
    "## Q3. Explain why the __init__() function is used. Give a suitable example"
   ]
  },
  {
   "cell_type": "code",
   "execution_count": 6,
   "id": "4303cc90-3285-48b3-8542-455bb5acac06",
   "metadata": {},
   "outputs": [
    {
     "name": "stdout",
     "output_type": "stream",
     "text": [
      "I ran first\n",
      "I ran second\n",
      "Name: Audi R8\n"
     ]
    }
   ],
   "source": [
    "# All classes have a function called __init__(), which is always executed when the class is being initiated.\n",
    "# Use the __init__() function to assign values to object properties, or other operations that are necessary to do \n",
    "# when the object is being created:\n",
    "\n",
    "class Car:\n",
    "    def __init__(self, name):\n",
    "        self.name = name\n",
    "        print(\"I ran first\")\n",
    " \n",
    "    def product(self):\n",
    "        print(\"I ran second\")\n",
    "        return (\"Name: \" + self.name)\n",
    " \n",
    " \n",
    "C = Car('Audi R8')\n",
    "print(C.product())\n"
   ]
  },
  {
   "cell_type": "code",
   "execution_count": null,
   "id": "20f251f1-70a6-4973-b32f-89e50ca5bf99",
   "metadata": {},
   "outputs": [],
   "source": []
  },
  {
   "cell_type": "code",
   "execution_count": 7,
   "id": "c649efaf-0076-4ff4-b6c2-900ff6f1d9fc",
   "metadata": {},
   "outputs": [],
   "source": [
    "## Q4. Why self is used in OOPs?"
   ]
  },
  {
   "cell_type": "code",
   "execution_count": 8,
   "id": "0ddad6ef-5f06-4d8f-ac1e-1e6edfb783c9",
   "metadata": {},
   "outputs": [
    {
     "name": "stdout",
     "output_type": "stream",
     "text": [
      "Hello my name is John\n"
     ]
    }
   ],
   "source": [
    "# The self parameter is a reference to the current instance of the class, and is used to access variables \n",
    "# that belongs to the class.\n",
    "# It does not have to be named self , you can call it whatever you like, but it has to be the first parameter\n",
    "# of any function in the class:\n",
    "\n",
    "class Person:\n",
    "  def __init__(mysillyobject, name, age):\n",
    "    mysillyobject.name = name\n",
    "    mysillyobject.age = age\n",
    "\n",
    "  def myfunc(abc):\n",
    "    print(\"Hello my name is \" + abc.name)\n",
    "\n",
    "p1 = Person(\"John\", 36)\n",
    "p1.myfunc()"
   ]
  },
  {
   "cell_type": "code",
   "execution_count": null,
   "id": "2e150f09-8533-442e-91fc-ff7e9eb41138",
   "metadata": {},
   "outputs": [],
   "source": []
  },
  {
   "cell_type": "code",
   "execution_count": 9,
   "id": "7aa72b3a-fbe3-4014-ae6e-1403b5c6e88a",
   "metadata": {},
   "outputs": [],
   "source": [
    "## Q5. What is inheritance? Give an example for each type of inheritance"
   ]
  },
  {
   "cell_type": "code",
   "execution_count": 11,
   "id": "d489b3d0-feb9-4b4f-ab8f-61b3b5b1d5b1",
   "metadata": {},
   "outputs": [
    {
     "name": "stdout",
     "output_type": "stream",
     "text": [
      "harsh patil\n"
     ]
    }
   ],
   "source": [
    "# Inheritance allows us to define a class that inherits all the methods and properties from another class.\n",
    "# Parent class is the class being inherited from, also called base class.\n",
    "# Child class is the class that inherits from another class, also called derived class.\n",
    "\n",
    "class Person:\n",
    "  def __init__(self, fname, lname):\n",
    "    self.firstname = fname\n",
    "    self.lastname = lname\n",
    "\n",
    "  def printname(self):\n",
    "    print(self.firstname, self.lastname)\n",
    "\n",
    "#Use the Person class to create an object, and then execute the printname method:\n",
    "\n",
    "x = Person(\"harsh\", \"patil\")\n",
    "x.printname()"
   ]
  },
  {
   "cell_type": "code",
   "execution_count": null,
   "id": "1df2c6fb-72ef-416d-b6aa-f6f1c55c27ee",
   "metadata": {},
   "outputs": [],
   "source": []
  }
 ],
 "metadata": {
  "kernelspec": {
   "display_name": "Python 3 (ipykernel)",
   "language": "python",
   "name": "python3"
  },
  "language_info": {
   "codemirror_mode": {
    "name": "ipython",
    "version": 3
   },
   "file_extension": ".py",
   "mimetype": "text/x-python",
   "name": "python",
   "nbconvert_exporter": "python",
   "pygments_lexer": "ipython3",
   "version": "3.10.8"
  }
 },
 "nbformat": 4,
 "nbformat_minor": 5
}

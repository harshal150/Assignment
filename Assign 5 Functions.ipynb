{
 "cells": [
  {
   "cell_type": "code",
   "execution_count": 1,
   "id": "9d7b4a00-a68f-4837-aaf2-8a70e2cd08ce",
   "metadata": {},
   "outputs": [],
   "source": [
    "## Q1. Create a python program to sort the given list of tuples based on integer value using a  lambda function.  \n",
    "# [('Sachin Tendulkar', 34357), ('Ricky Ponting', 27483), ('Jack Kallis', 25534), ('Virat Kohli', 24936)] "
   ]
  },
  {
   "cell_type": "code",
   "execution_count": 2,
   "id": "cbe3273f-7007-48e3-be33-5789ab7fb0ed",
   "metadata": {},
   "outputs": [],
   "source": [
    "l = [('Sachin Tendulkar', 34357), ('Ricky Ponting', 27483), ('Jack Kallis', 25534), ('Virat Kohli', 24936)]"
   ]
  },
  {
   "cell_type": "code",
   "execution_count": 3,
   "id": "759e75fa-487d-418e-9a56-f1fc82508349",
   "metadata": {},
   "outputs": [],
   "source": [
    "newList = sorted(l, key = lambda x : x[1],reverse=True)"
   ]
  },
  {
   "cell_type": "code",
   "execution_count": 4,
   "id": "6915c2a2-c834-4642-b464-a2538f649ed8",
   "metadata": {},
   "outputs": [
    {
     "name": "stdout",
     "output_type": "stream",
     "text": [
      "Reverse sorted list:  [('Sachin Tendulkar', 34357), ('Ricky Ponting', 27483), ('Jack Kallis', 25534), ('Virat Kohli', 24936)]\n",
      "original list:  [('Sachin Tendulkar', 34357), ('Ricky Ponting', 27483), ('Jack Kallis', 25534), ('Virat Kohli', 24936)]\n"
     ]
    }
   ],
   "source": [
    "print(\"Reverse sorted list: \",newList)\n",
    "print(\"original list: \", l)"
   ]
  },
  {
   "cell_type": "code",
   "execution_count": null,
   "id": "f01bf009-6027-459e-903f-dbc12d4ab696",
   "metadata": {},
   "outputs": [],
   "source": []
  },
  {
   "cell_type": "code",
   "execution_count": 5,
   "id": "7d2d7363-9c48-44be-91bb-ceb43a8238d8",
   "metadata": {},
   "outputs": [],
   "source": [
    "## Q2. Write a Python Program to find the squares of all the numbers in the given list of integers using \n",
    "# lambda and map functions. "
   ]
  },
  {
   "cell_type": "code",
   "execution_count": 8,
   "id": "51d62f09-43cd-47a7-8821-5e0e58e32d84",
   "metadata": {},
   "outputs": [
    {
     "name": "stdout",
     "output_type": "stream",
     "text": [
      "[1, 4, 9, 16, 25, 36, 49, 64, 81, 100]\n"
     ]
    }
   ],
   "source": [
    "nums = [1, 2, 3, 4, 5, 6, 7, 8, 9, 10] \n",
    "square_nums = list(map(lambda x: x ** 2, nums))\n",
    "print(square_nums)"
   ]
  },
  {
   "cell_type": "code",
   "execution_count": null,
   "id": "32756a82-c07f-441b-8075-7d62b8bc0ae6",
   "metadata": {},
   "outputs": [],
   "source": []
  },
  {
   "cell_type": "code",
   "execution_count": 16,
   "id": "4de5a689-a2e4-4485-b7b7-6b2c937fb104",
   "metadata": {},
   "outputs": [],
   "source": [
    "##Q3. Write a python program to convert the given list of integers into a tuple of strings. Use map and \n",
    "# lambda functions \n",
    "# Given String: [1, 2, 3, 4, 5, 6, 7, 8, 9, 10] \n",
    "# Expected output: ('1', '2', '3', '4', '5', '6', '7', '8', '9', '10') \n"
   ]
  },
  {
   "cell_type": "code",
   "execution_count": null,
   "id": "62916a1e-2ba5-4335-8618-8541f625dfa0",
   "metadata": {},
   "outputs": [],
   "source": [
    "## Q4.  Write a python program using reduce function to compute the product of a list containing numbers\n",
    "# from 1 to 25. "
   ]
  },
  {
   "cell_type": "code",
   "execution_count": 17,
   "id": "73f4d88c-ceb0-4182-ac05-a07c6c45fc63",
   "metadata": {},
   "outputs": [
    {
     "name": "stdout",
     "output_type": "stream",
     "text": [
      "325\n"
     ]
    }
   ],
   "source": [
    "from functools import reduce \n",
    "nums = [1, 2, 3, 4,5,6,7,8,9,10,11,12,13,14,15,16,17,18,19,20,21,22,23,24,25]\n",
    "ans = reduce(lambda x, y: x + y, nums)\n",
    "print(ans) "
   ]
  },
  {
   "cell_type": "code",
   "execution_count": null,
   "id": "7a3d3d70-06f0-412a-86b3-ded2a94ebe4e",
   "metadata": {},
   "outputs": [],
   "source": []
  },
  {
   "cell_type": "code",
   "execution_count": 18,
   "id": "99875387-a8fe-49a9-a55f-c5402241e46f",
   "metadata": {},
   "outputs": [],
   "source": [
    "## Q5. Write a python program to filter the numbers in a given list that are divisible by 2 and 3 using the\n",
    "# filter function. \n",
    "# [2, 3, 6, 9, 27, 60, 90, 120, 55, 46] "
   ]
  },
  {
   "cell_type": "code",
   "execution_count": 21,
   "id": "4a40f194-b5af-45d4-8ba7-536ad78fd269",
   "metadata": {},
   "outputs": [
    {
     "name": "stdout",
     "output_type": "stream",
     "text": [
      "[6, 60, 90, 120]\n"
     ]
    }
   ],
   "source": [
    "l = [2, 3, 6, 9, 27, 60, 90, 120, 55, 46] \n",
    "result = list(filter(lambda x: (x % 6 == 0  ), l))\n",
    "print(result)"
   ]
  },
  {
   "cell_type": "code",
   "execution_count": null,
   "id": "5ad82e7e-f1ea-4beb-a65f-540507eb6c87",
   "metadata": {},
   "outputs": [],
   "source": []
  },
  {
   "cell_type": "code",
   "execution_count": 22,
   "id": "95863848-4d5c-42f1-9682-2c80dce83ab2",
   "metadata": {},
   "outputs": [],
   "source": [
    "## Q6. Write a python program to find palindromes in the given list of strings using lambda and filter  function. \n",
    "# ['python', 'php', 'aba', 'radar', 'level'] "
   ]
  },
  {
   "cell_type": "code",
   "execution_count": 24,
   "id": "c465737e-b149-4ceb-8dc9-ce56bbf33dfb",
   "metadata": {},
   "outputs": [
    {
     "name": "stdout",
     "output_type": "stream",
     "text": [
      "['php', 'aba', 'radar', 'level']\n"
     ]
    }
   ],
   "source": [
    "k = ['python', 'php', 'aba', 'radar', 'level']\n",
    "result = list(filter(lambda x: (x == \"\".join(reversed(x))), k))\n",
    "print(result)"
   ]
  },
  {
   "cell_type": "code",
   "execution_count": null,
   "id": "b37f44e2-00b5-4158-824f-31b97138cede",
   "metadata": {},
   "outputs": [],
   "source": []
  }
 ],
 "metadata": {
  "kernelspec": {
   "display_name": "Python 3 (ipykernel)",
   "language": "python",
   "name": "python3"
  },
  "language_info": {
   "codemirror_mode": {
    "name": "ipython",
    "version": 3
   },
   "file_extension": ".py",
   "mimetype": "text/x-python",
   "name": "python",
   "nbconvert_exporter": "python",
   "pygments_lexer": "ipython3",
   "version": "3.10.8"
  }
 },
 "nbformat": 4,
 "nbformat_minor": 5
}

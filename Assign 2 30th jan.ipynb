{
 "cells": [
  {
   "cell_type": "code",
   "execution_count": 2,
   "id": "f66e7c47-18af-418b-8789-46c6869af262",
   "metadata": {},
   "outputs": [],
   "source": [
    "# 1. Write a program to accept percentage from the user and display the grade according to the following \n",
    "# criteria: \n",
    "# Marks \n",
    "# Grade \n",
    "# >90 \n",
    "# A \n",
    "# >80 and <=90 \n",
    "# B \n",
    "# >=60 and <=80 \n",
    "# C \n",
    "# below 60 \n",
    "# D \n"
   ]
  },
  {
   "cell_type": "code",
   "execution_count": 3,
   "id": "a226ca9f-2e64-423d-83f6-44b7060b5af4",
   "metadata": {},
   "outputs": [
    {
     "name": "stdin",
     "output_type": "stream",
     "text": [
      "enter the percentage 65\n"
     ]
    },
    {
     "name": "stdout",
     "output_type": "stream",
     "text": [
      "C\n"
     ]
    }
   ],
   "source": [
    "marks = int(input(\"enter the percentage\"))\n",
    "if marks > 90 :\n",
    "    print(\"A\")\n",
    "elif marks > 80 and marks <= 90 :\n",
    "    print(\"B\")\n",
    "elif marks >= 60 and marks <= 80 :\n",
    "    print(\"C\")\n",
    "else :\n",
    "    print(\"D\")"
   ]
  },
  {
   "cell_type": "code",
   "execution_count": 4,
   "id": "140b5b92-0bc4-4741-b736-19ad056bf40d",
   "metadata": {},
   "outputs": [],
   "source": [
    "# 2. Write a program to accept the cost price of a bike and display the road tax to be paid according to the \n",
    "# following criteria: \n",
    "# Tax \n",
    "# 15% \n",
    "# 10% \n",
    "# 5% \n",
    "# Cost Price(in Rs) \n",
    "# >100000 \n",
    "\n",
    "# 50000 and <= 100000 \n",
    "# <= 50000 "
   ]
  },
  {
   "cell_type": "code",
   "execution_count": 6,
   "id": "81ee2a42-393c-4133-88bc-a7eb51d2c149",
   "metadata": {},
   "outputs": [
    {
     "name": "stdin",
     "output_type": "stream",
     "text": [
      "enter the cost price 70000\n"
     ]
    },
    {
     "name": "stdout",
     "output_type": "stream",
     "text": [
      "you have to pay 10% tax\n"
     ]
    }
   ],
   "source": [
    "cp = int(input(\"enter the cost price\"))\n",
    "if cp > 100000 :\n",
    "    print(\"you have to pay 15% tax\")\n",
    "elif cp > 50000 and cp <= 100000 :\n",
    "    print(\"you have to pay 10% tax\")\n",
    "else :\n",
    "    print(\"you have to pay 5% tax\")"
   ]
  },
  {
   "cell_type": "code",
   "execution_count": 7,
   "id": "2b498b78-dfca-4a36-bc52-673592d776b6",
   "metadata": {},
   "outputs": [],
   "source": [
    "# 3. Accept any city from the user and display monuments of that city. \n",
    "# City \n",
    "# Delhi \n",
    "# Monument \n",
    "# Red Fort \n",
    "# Taj Mahal \n",
    "# Agra \n",
    "# Jaipur \n",
    "# Jal Mahal "
   ]
  },
  {
   "cell_type": "code",
   "execution_count": 10,
   "id": "d574f295-e423-4f74-ab96-7b38eb7fedd3",
   "metadata": {},
   "outputs": [
    {
     "name": "stdin",
     "output_type": "stream",
     "text": [
      "enter city name :  Jaipur\n"
     ]
    },
    {
     "name": "stdout",
     "output_type": "stream",
     "text": [
      "Jal Mahal\n"
     ]
    }
   ],
   "source": [
    "city = input(\"enter city name : \")\n",
    "if city == \"delhi\" :\n",
    "    print(\"Red Fort\")\n",
    "elif city == \"Agra\" :\n",
    "    print(\"Taj Mahal\")\n",
    "elif city == \"Jaipur\" :\n",
    "    print(\"Jal Mahal\")\n",
    "else :\n",
    "    print(\"enter valid city\")"
   ]
  },
  {
   "cell_type": "code",
   "execution_count": 11,
   "id": "d6c78170-81a8-46bd-9735-afa66ea23530",
   "metadata": {},
   "outputs": [],
   "source": [
    "# 4. Check how many times a given number can be divided by 3 before it is less than or equal to 10. "
   ]
  },
  {
   "cell_type": "code",
   "execution_count": 1,
   "id": "f892712d-1f9f-479f-8f49-58e3877f7231",
   "metadata": {},
   "outputs": [
    {
     "name": "stdout",
     "output_type": "stream",
     "text": [
      "Total iteration required 3\n"
     ]
    }
   ],
   "source": [
    "count = 0\n",
    "number = 180\n",
    "while number > 10:\n",
    "    # divide number by 3\n",
    "    number = number / 3\n",
    "    # increase count\n",
    "    count = count + 1\n",
    "print('Total iteration required', count)\n"
   ]
  },
  {
   "cell_type": "code",
   "execution_count": 2,
   "id": "ecbc7724-0c96-4a97-86f8-64a9fea8eead",
   "metadata": {},
   "outputs": [],
   "source": [
    "# 5. Why and When to Use while Loop in Python give a detailed description with example "
   ]
  },
  {
   "cell_type": "code",
   "execution_count": 4,
   "id": "01b6e605-5e88-48d3-8d5f-38609d53217e",
   "metadata": {},
   "outputs": [
    {
     "name": "stdout",
     "output_type": "stream",
     "text": [
      "1\n",
      "2\n",
      "3\n",
      "4\n",
      "5\n"
     ]
    }
   ],
   "source": [
    "# Python while loop is used to run a block code until a certain condition is met.\n",
    "\n",
    "# The syntax of while loop is:\n",
    "\n",
    "# while condition:\n",
    "#     # body of while loop\n",
    "# Here,\n",
    "\n",
    "# A while loop evaluates the condition\n",
    "# If the condition evaluates to True, the code inside the while loop is executed.\n",
    "# condition is evaluated again.\n",
    "# This process continues until the condition is False.\n",
    "# When condition evaluates to False, the loop stops.\n",
    "\n",
    "# program to display numbers from 1 to 5\n",
    "\n",
    "# initialize the variable\n",
    "i = 1\n",
    "n = 5\n",
    "\n",
    "# while loop from i = 1 to 5\n",
    "while i <= n:\n",
    "    print(i)\n",
    "    i = i + 1"
   ]
  },
  {
   "cell_type": "code",
   "execution_count": 5,
   "id": "97c5e6aa-2d2c-4740-9242-acf9d044ed84",
   "metadata": {},
   "outputs": [],
   "source": [
    "# 6. Use nested while loop to print 3 different pattern. "
   ]
  },
  {
   "cell_type": "code",
   "execution_count": 6,
   "id": "6c5ebff8-9ea6-4880-bd5d-85ce2fe82924",
   "metadata": {},
   "outputs": [
    {
     "name": "stdout",
     "output_type": "stream",
     "text": [
      "1 \n",
      "1 2 \n",
      "1 2 3 \n",
      "1 2 3 4 \n",
      "1 2 3 4 5 \n"
     ]
    }
   ],
   "source": [
    "# pattern of numbers using a nested while loop\n",
    "i=1\n",
    "while i<=5:\n",
    "    j=1\n",
    "    while j<=i:\n",
    "        print(j,end=\" \")\n",
    "        j=j+1\n",
    "    print(\"\")\n",
    "    i=i+1\n"
   ]
  },
  {
   "cell_type": "code",
   "execution_count": 7,
   "id": "6b00dcea-ebcb-4658-b0d1-5d00bd212f1c",
   "metadata": {},
   "outputs": [
    {
     "name": "stdout",
     "output_type": "stream",
     "text": [
      "0 1 2 3 \n",
      "0 2 4 6 \n",
      "0 3 6 9 \n",
      "0 4 8 12 \n"
     ]
    }
   ],
   "source": [
    "i = 1\n",
    "while i <= 4 :\n",
    "    j = 0\n",
    "    while  j <= 3 :\n",
    "        print(i*j, end=\" \")\n",
    "        j += 1\n",
    "    print()\n",
    "    i += 1"
   ]
  },
  {
   "cell_type": "code",
   "execution_count": 8,
   "id": "26db3842-2975-4b64-b40f-2fce8ab07f05",
   "metadata": {},
   "outputs": [
    {
     "name": "stdout",
     "output_type": "stream",
     "text": [
      "0 0 0 0 0 0 \n",
      "0 1 2 3 4 5 \n",
      "0 2 4 6 8 10 \n",
      "0 3 6 9 12 15 \n",
      "\n",
      "0 0 0 0 0 0 \n",
      "0 2 4 6 8 10 \n",
      "0 4 8 12 16 20 \n",
      "0 6 12 18 24 30 \n",
      "\n",
      "0 0 0 0 0 0 \n",
      "0 3 6 9 12 15 \n",
      "0 6 12 18 24 30 \n",
      "0 9 18 27 36 45 \n",
      "\n",
      "0 0 0 0 0 0 \n",
      "0 4 8 12 16 20 \n",
      "0 8 16 24 32 40 \n",
      "0 12 24 36 48 60 \n",
      "\n"
     ]
    }
   ],
   "source": [
    "i = 1\n",
    "while i <= 4 :\n",
    "    j = 0\n",
    "    while  j <= 3 :\n",
    "        k = 0\n",
    "        while  k <= 5 :\n",
    "            print(i*j*k, end=\" \")\n",
    "            k += 1\n",
    "        print()\n",
    "        j += 1\n",
    "    print()\n",
    "    i += 1"
   ]
  },
  {
   "cell_type": "code",
   "execution_count": 9,
   "id": "1be8c93d-9587-4865-8b05-6ef933e4e2a1",
   "metadata": {},
   "outputs": [],
   "source": [
    "# 7. Reverse a while loop to display numbers from 10 to 1. "
   ]
  },
  {
   "cell_type": "code",
   "execution_count": 10,
   "id": "78e71d9f-18fc-4730-923f-0ae230e0ade6",
   "metadata": {},
   "outputs": [
    {
     "name": "stdout",
     "output_type": "stream",
     "text": [
      "10\n",
      "9\n",
      "8\n",
      "7\n",
      "6\n",
      "5\n",
      "4\n",
      "3\n",
      "2\n",
      "1\n"
     ]
    }
   ],
   "source": [
    "i = 10\n",
    "while i > 0:\n",
    "    print(i)\n",
    "    i = i - 1"
   ]
  },
  {
   "cell_type": "code",
   "execution_count": null,
   "id": "8b49380b-6634-4fa2-91b0-7f4b88ab7d0f",
   "metadata": {},
   "outputs": [],
   "source": []
  }
 ],
 "metadata": {
  "kernelspec": {
   "display_name": "Python 3 (ipykernel)",
   "language": "python",
   "name": "python3"
  },
  "language_info": {
   "codemirror_mode": {
    "name": "ipython",
    "version": 3
   },
   "file_extension": ".py",
   "mimetype": "text/x-python",
   "name": "python",
   "nbconvert_exporter": "python",
   "pygments_lexer": "ipython3",
   "version": "3.10.8"
  }
 },
 "nbformat": 4,
 "nbformat_minor": 5
}

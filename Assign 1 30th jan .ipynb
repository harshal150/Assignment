{
 "cells": [
  {
   "cell_type": "code",
   "execution_count": 2,
   "id": "2b456e3b-bbe8-4a9b-ab69-ccd780664916",
   "metadata": {},
   "outputs": [],
   "source": [
    "#1. Who developed Python Programming Language? "
   ]
  },
  {
   "cell_type": "code",
   "execution_count": 4,
   "id": "e00a2bbc-ade0-43c3-bed2-4008e4e98c8e",
   "metadata": {},
   "outputs": [],
   "source": [
    "#ANS -- Guido van Rossum"
   ]
  },
  {
   "cell_type": "code",
   "execution_count": 5,
   "id": "d8b8325d-c8bd-45f3-a050-f48179934ad7",
   "metadata": {},
   "outputs": [],
   "source": [
    "#2. Which type of Programming does Python support? "
   ]
  },
  {
   "cell_type": "code",
   "execution_count": 6,
   "id": "a0eecc24-07e5-4c0d-8a4a-aff425277e60",
   "metadata": {},
   "outputs": [],
   "source": [
    "#ANS -- Python is a multi-paradigm programming language. Object-oriented programming and structured programming \n",
    "#are fully supported, and many of their features support functional programming and aspect-oriented programming \n",
    "#(including metaprogramming and metaobjects)."
   ]
  },
  {
   "cell_type": "code",
   "execution_count": 7,
   "id": "0dc2339c-d991-49d6-96b5-841e524a891c",
   "metadata": {},
   "outputs": [],
   "source": [
    "#3. Is Python case sensitive when dealing with identifiers? "
   ]
  },
  {
   "cell_type": "code",
   "execution_count": 8,
   "id": "6e8b0d76-0254-4c9f-8c9f-ae2d1ba05ace",
   "metadata": {},
   "outputs": [],
   "source": [
    "# ANS -- Yes, Python is a case-sensitive language, i.e., it treats uppercase and lowercase characters differently. This applies to identifiers too."
   ]
  },
  {
   "cell_type": "code",
   "execution_count": 9,
   "id": "c1e16783-2e08-468d-9d08-64669f83a3cb",
   "metadata": {},
   "outputs": [],
   "source": [
    "#4. What is the correct extension of the Python file?"
   ]
  },
  {
   "cell_type": "code",
   "execution_count": 10,
   "id": "d002f4b2-f4fb-482e-ab66-0b1ead36b741",
   "metadata": {},
   "outputs": [],
   "source": [
    "# ANS -- .py"
   ]
  },
  {
   "cell_type": "code",
   "execution_count": 11,
   "id": "f1fd0b52-05c6-4a5b-a107-d5e4031f80e7",
   "metadata": {},
   "outputs": [],
   "source": [
    "#5. Is Python code compiled or interpreted?"
   ]
  },
  {
   "cell_type": "code",
   "execution_count": 12,
   "id": "5bc43129-149b-4667-912d-fcce4ef99825",
   "metadata": {},
   "outputs": [],
   "source": [
    "# ANS -- Python is an interpreted language"
   ]
  },
  {
   "cell_type": "code",
   "execution_count": 13,
   "id": "c5db3ef7-38ae-40b1-8b3d-b5e48152d5d6",
   "metadata": {},
   "outputs": [],
   "source": [
    "#6. Name a few blocks of code used to define in Python language? "
   ]
  },
  {
   "cell_type": "code",
   "execution_count": 14,
   "id": "11f46777-2e98-437c-be70-32e631ee41bc",
   "metadata": {},
   "outputs": [],
   "source": [
    "# ANS -- The following are blocks: a module, a function body, and a class definition"
   ]
  },
  {
   "cell_type": "code",
   "execution_count": 15,
   "id": "856993d3-7620-482b-a3b4-6ed2542af33c",
   "metadata": {},
   "outputs": [],
   "source": [
    "# 7. State a character used to give single-line comments in Python? "
   ]
  },
  {
   "cell_type": "code",
   "execution_count": 16,
   "id": "fc09f3ce-6286-432e-8148-01ae557ba30b",
   "metadata": {},
   "outputs": [],
   "source": [
    "# ANS -- We can write a single-line comment by adding a single # character before any statement or line of code"
   ]
  },
  {
   "cell_type": "code",
   "execution_count": 17,
   "id": "5d0921c9-e8e1-470c-90fe-4bf0ec4ce67e",
   "metadata": {},
   "outputs": [],
   "source": [
    "# 8. Mention functions which can help us to find the version of python that we are currently working on?"
   ]
  },
  {
   "cell_type": "code",
   "execution_count": 18,
   "id": "0660ac24-5055-46a0-b755-e4042be1399d",
   "metadata": {},
   "outputs": [],
   "source": [
    "# ANS -- The function sys. version can help us to find the version of python that we are currently working on."
   ]
  },
  {
   "cell_type": "code",
   "execution_count": 19,
   "id": "5705e711-fdf4-4aa6-98da-b15c0fac5e29",
   "metadata": {},
   "outputs": [],
   "source": [
    "# 9. Python supports the creation of anonymous functions at runtime, using a construct called "
   ]
  },
  {
   "cell_type": "code",
   "execution_count": 21,
   "id": "53fb1c6f-248e-40b4-a6ce-d85895716e90",
   "metadata": {},
   "outputs": [],
   "source": [
    "# ANS -- \"lambda\" ."
   ]
  },
  {
   "cell_type": "code",
   "execution_count": 22,
   "id": "dd228543-0d1c-4850-954b-d656a7294c44",
   "metadata": {},
   "outputs": [],
   "source": [
    "# 10. What does pip stand for python? "
   ]
  },
  {
   "cell_type": "code",
   "execution_count": 23,
   "id": "ee0864e6-bead-4bd2-a071-e856dbc9680d",
   "metadata": {},
   "outputs": [],
   "source": [
    "# ANS -- Preferred Installer Program"
   ]
  },
  {
   "cell_type": "code",
   "execution_count": 24,
   "id": "82a3d6ce-1d17-4513-95be-b9023bbaf66e",
   "metadata": {},
   "outputs": [],
   "source": [
    "# 11. Mention a few built-in functions in python? "
   ]
  },
  {
   "cell_type": "code",
   "execution_count": 26,
   "id": "e37c7977-bd61-4836-bc04-d193809d9169",
   "metadata": {},
   "outputs": [],
   "source": [
    "# ANS -- print( ) function.\n",
    "# type( ) function.\n",
    "# input( ) function.\n",
    "# abs( ) function.\n",
    "# pow( ) function.\n",
    "# dir( ) function.\n",
    "# sorted( ) function.\n",
    "# max( ) function."
   ]
  },
  {
   "cell_type": "code",
   "execution_count": 27,
   "id": "3793db23-e287-4522-81fc-ed5577d01f28",
   "metadata": {},
   "outputs": [],
   "source": [
    "# 12. What is the maximum possible length of an identifier in Python?"
   ]
  },
  {
   "cell_type": "code",
   "execution_count": 28,
   "id": "21fd4826-6bd9-4691-8fa0-976559b48f0a",
   "metadata": {},
   "outputs": [],
   "source": [
    "# ANS -- 79 characters"
   ]
  },
  {
   "cell_type": "code",
   "execution_count": 29,
   "id": "f30532a3-84fa-4a80-9a81-d67440743de2",
   "metadata": {},
   "outputs": [],
   "source": [
    "# 13. What are the benefits of using Python? "
   ]
  },
  {
   "cell_type": "code",
   "execution_count": 30,
   "id": "333bde3d-2813-4940-ab5b-cb87c224bf76",
   "metadata": {},
   "outputs": [],
   "source": [
    "# ANS -- Easy to Code. Python is a very high-level programming language, yet it is effortless to learn. ...\n",
    "# Easy to Read. Python code looks like simple English words. ...\n",
    "# Free and Open-Source. ...\n",
    "# Robust Standard Library. ...\n",
    "# Interpreted. ...\n",
    "# Portable. ...\n",
    "# Object-Oriented and Procedure-Oriented. ...\n",
    "# Extensible."
   ]
  },
  {
   "cell_type": "code",
   "execution_count": 31,
   "id": "1d651ebf-74f4-4676-a26b-74cc990ea09a",
   "metadata": {},
   "outputs": [],
   "source": [
    "# 14. How is memory managed in Python?"
   ]
  },
  {
   "cell_type": "code",
   "execution_count": 32,
   "id": "054bb8ad-e827-4ce4-81fc-0fcfa592586e",
   "metadata": {},
   "outputs": [],
   "source": [
    "# ANS -- Memory management in Python involves a private heap containing all Python objects and data structures. The management of this private heap \n",
    "#is ensured internally by the Python memory manager."
   ]
  },
  {
   "cell_type": "code",
   "execution_count": 33,
   "id": "d77805b2-57ba-4272-aa0e-1e8054be53ae",
   "metadata": {},
   "outputs": [],
   "source": [
    "# 15. How to install Python on Windows and set path variables? 16. Is indentation required in python? "
   ]
  },
  {
   "cell_type": "code",
   "execution_count": null,
   "id": "b7b7f7b1-99f8-4389-a281-243086238ca7",
   "metadata": {},
   "outputs": [],
   "source": [
    "# ANS -- Method 1: Install a Recent Version of Python\n"
   ]
  }
 ],
 "metadata": {
  "kernelspec": {
   "display_name": "Python 3 (ipykernel)",
   "language": "python",
   "name": "python3"
  },
  "language_info": {
   "codemirror_mode": {
    "name": "ipython",
    "version": 3
   },
   "file_extension": ".py",
   "mimetype": "text/x-python",
   "name": "python",
   "nbconvert_exporter": "python",
   "pygments_lexer": "ipython3",
   "version": "3.10.8"
  }
 },
 "nbformat": 4,
 "nbformat_minor": 5
}

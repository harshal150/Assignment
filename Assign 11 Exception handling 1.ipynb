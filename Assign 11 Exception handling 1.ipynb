{
 "cells": [
  {
   "cell_type": "code",
   "execution_count": 1,
   "id": "01257e2e-170d-4d6f-9706-b59f4f5d72dc",
   "metadata": {},
   "outputs": [],
   "source": [
    "#Q1.what is an exception in python ? write difference between exception and syntax error??"
   ]
  },
  {
   "cell_type": "code",
   "execution_count": 2,
   "id": "ae7b565f-2ca9-4ba6-9732-bddededb1031",
   "metadata": {},
   "outputs": [],
   "source": [
    "# ANS\n",
    "# Exceptions: Exceptions are raised when the program is syntactically correct, but the code resulted in an \n",
    "# error. This error does not stop the execution of the program, however, it changes the normal \n",
    "# flow of the program.\n",
    "# Syntax Error: As the name suggests this error is caused by the wrong syntax in the code. It leads to the\n",
    "# termination of the program.\n",
    "# Syntax Error is an absolute error by the developer where as Exception can work in developer system but\n",
    "# not in user system"
   ]
  },
  {
   "cell_type": "code",
   "execution_count": null,
   "id": "766eb332-947c-426a-b691-b21d4079d8c7",
   "metadata": {},
   "outputs": [],
   "source": []
  },
  {
   "cell_type": "code",
   "execution_count": 3,
   "id": "8e235497-f260-4253-88e7-6ae113282dae",
   "metadata": {},
   "outputs": [],
   "source": [
    "# Q2 . What happen when exception is not handle ? expalin with example"
   ]
  },
  {
   "cell_type": "code",
   "execution_count": 4,
   "id": "82413f46-d2e0-44e5-b30c-8e9a5e0bb930",
   "metadata": {},
   "outputs": [
    {
     "ename": "ZeroDivisionError",
     "evalue": "division by zero",
     "output_type": "error",
     "traceback": [
      "\u001b[0;31m---------------------------------------------------------------------------\u001b[0m",
      "\u001b[0;31mZeroDivisionError\u001b[0m                         Traceback (most recent call last)",
      "Cell \u001b[0;32mIn[4], line 6\u001b[0m\n\u001b[1;32m      1\u001b[0m \u001b[38;5;66;03m# If exception is not handelled then next code which is written in next line of python also will not run \u001b[39;00m\n\u001b[1;32m      2\u001b[0m \u001b[38;5;66;03m# and entire file will be stopped\u001b[39;00m\n\u001b[1;32m      3\u001b[0m \n\u001b[1;32m      4\u001b[0m \u001b[38;5;66;03m#ex\u001b[39;00m\n\u001b[0;32m----> 6\u001b[0m \u001b[38;5;28mprint\u001b[39m(\u001b[38;5;241;43m1\u001b[39;49m\u001b[38;5;241;43m/\u001b[39;49m\u001b[38;5;241;43m0\u001b[39;49m)\n\u001b[1;32m      7\u001b[0m \u001b[38;5;28mprint\u001b[39m(\u001b[38;5;124m\"\u001b[39m\u001b[38;5;124mWhat is your Name\u001b[39m\u001b[38;5;124m\"\u001b[39m)\n",
      "\u001b[0;31mZeroDivisionError\u001b[0m: division by zero"
     ]
    }
   ],
   "source": [
    "# If exception is not handelled then next code which is written in next line of python also will not run \n",
    "# and entire file will be stopped\n",
    "\n",
    "#ex\n",
    "\n",
    "print(1/0)\n",
    "print(\"What is your Name\")"
   ]
  },
  {
   "cell_type": "code",
   "execution_count": null,
   "id": "a69ca3db-f8e3-4906-9e2b-b81eec07d64e",
   "metadata": {},
   "outputs": [],
   "source": []
  },
  {
   "cell_type": "code",
   "execution_count": 5,
   "id": "7a4dbc29-5652-4efc-b830-d1f76c78a7fa",
   "metadata": {},
   "outputs": [],
   "source": [
    "#Q3 . which python statment is used to catch and hadle exception ?explain with example"
   ]
  },
  {
   "cell_type": "code",
   "execution_count": 6,
   "id": "00e957d0-7620-44f7-956e-4cd88ce46254",
   "metadata": {},
   "outputs": [
    {
     "name": "stdout",
     "output_type": "stream",
     "text": [
      "This is Except Block:::  Division By Zero\n"
     ]
    }
   ],
   "source": [
    "# The try and except block in Python is used to catch and handle exceptions.\n",
    "\n",
    "#example\n",
    "\n",
    "try:# try for error \n",
    "    1/0\n",
    "except Exception as e: # if such error comes send it to except block\n",
    "    print(\"This is Except Block::: \", str(e).title())"
   ]
  },
  {
   "cell_type": "code",
   "execution_count": null,
   "id": "04fd5ece-377d-4d65-9531-3a4804449a8d",
   "metadata": {},
   "outputs": [],
   "source": []
  },
  {
   "cell_type": "code",
   "execution_count": null,
   "id": "c2ce8219-f9d8-4cc7-91c7-0520573ac299",
   "metadata": {},
   "outputs": [],
   "source": [
    "# #Q4 . explain with example\n",
    "\n",
    " # 1.try and else\n",
    "    \n",
    "    # try for error\n",
    "    # if try block executed without any error then else will be excuted for residual code, else will\n",
    "    # not excecuted \n",
    "    # if try fails\n",
    "    \n",
    "try :\n",
    "    f = open(\"xyz.txt\",\"w\")\n",
    "    f.write(\"this is my file\")\n",
    "except Exception as e :\n",
    "    print(\"this is my except block\" , e)\n",
    "    \n",
    "else:\n",
    "    f.close()   #this will execute if try block execute\n",
    "    \n",
    " # 2. finally\n",
    "     # it will be excuted at any situation\n",
    "    try:\n",
    "    a=[]\n",
    "    for i in range(0,10):\n",
    "        \n",
    "            a.append(1/i)\n",
    "    \n",
    "except Exception as e:\n",
    "    print (f'There is a bug of : {str(e).title()}')\n",
    "else:\n",
    "    print(a)\n",
    "    print()\n",
    "    print('Eception Handeled')\n",
    "    \n",
    "    \n",
    "finally:\n",
    "    print()\n",
    "    print(\"FINALLY \"*5) # it will be excecuted at any situat\n",
    "    "
   ]
  },
  {
   "cell_type": "code",
   "execution_count": null,
   "id": "c7242c10-6135-4fbe-b719-7e1732f92715",
   "metadata": {},
   "outputs": [],
   "source": []
  },
  {
   "cell_type": "code",
   "execution_count": 9,
   "id": "bf92c719-31f4-4895-9269-4d80f5848a47",
   "metadata": {},
   "outputs": [],
   "source": [
    "# Q5 . what are custome exception in python ? why do we need custom exception ? "
   ]
  },
  {
   "cell_type": "code",
   "execution_count": 10,
   "id": "05a8bf5c-fcc5-4c2d-b4b0-f3acd187990a",
   "metadata": {},
   "outputs": [
    {
     "name": "stdin",
     "output_type": "stream",
     "text": [
      "ENTER YOUR AGE:::: 22\n"
     ]
    },
    {
     "name": "stdout",
     "output_type": "stream",
     "text": [
      "22\n"
     ]
    }
   ],
   "source": [
    "# Custome Exception Handeling\n",
    "# Some time we need to raise custome msg for exception when system does not have the exception msg or \n",
    "# the exception itself\n",
    "# We need customised exception handelling because:\n",
    "# For those exception which system does not count as an exception we need to raise customized msg in \n",
    "# this time we need customised exception handelling\n",
    "\n",
    "# according to python the value for age is fine but not for you\n",
    "age= int(input(\"ENTER YOUR AGE::::\")) # enter age -111\n",
    "print(age)\n",
    "\n",
    "\n",
    "\n",
    "# to handel this kind of exception we need to create a sub class of Exception super class"
   ]
  },
  {
   "cell_type": "code",
   "execution_count": null,
   "id": "89b475de-a4ae-477e-9a40-e0bf0d1ca4ce",
   "metadata": {},
   "outputs": [],
   "source": []
  },
  {
   "cell_type": "code",
   "execution_count": 11,
   "id": "84f230e1-8444-4abd-8f22-ddece8dd9ed1",
   "metadata": {},
   "outputs": [],
   "source": [
    "#Q6 . create a custome exception class . use this class to handle exception"
   ]
  },
  {
   "cell_type": "code",
   "execution_count": 12,
   "id": "83725284-a386-4e3f-9502-89eb5aa253f8",
   "metadata": {},
   "outputs": [
    {
     "name": "stdin",
     "output_type": "stream",
     "text": [
      "ENTER YOUR AGE:::: 22\n"
     ]
    },
    {
     "name": "stdout",
     "output_type": "stream",
     "text": [
      "This is a Valid Age  22\n",
      "\n",
      "Your age  will be double to 44 in next 22 years\n"
     ]
    }
   ],
   "source": [
    "class Validateage(Exception): # the subclass where super class is Exception\n",
    "    def __init__(self, msg):  \n",
    "        self.msg=msg\n",
    "\n",
    "    \n",
    "    \n",
    "# make and function to raise error\n",
    "\n",
    "def validateage(age):\n",
    "    if age<0:\n",
    "        raise Validateage(f\"Age can't be Negative {age} \")\n",
    "    elif age>=200:\n",
    "        raise Validateage(f\"Age can't be too heigh  {age}\")\n",
    "    else:\n",
    "        print(f\"This is a Valid Age  {age}\")\n",
    "        \n",
    "        \n",
    "        \n",
    "        \n",
    "# Custome Exception Handelling\n",
    "\n",
    "try:\n",
    "    age= int(input(\"ENTER YOUR AGE::::\"))\n",
    "    validateage(age)\n",
    "\n",
    "except Validateage as v:\n",
    "    print(\"There is a Bug as:::::\", v)\n",
    "else:\n",
    "    print()\n",
    "    age1=age*2\n",
    "    print(f\"Your age  will be double to {age1} in next {age} years\")"
   ]
  },
  {
   "cell_type": "code",
   "execution_count": null,
   "id": "663c0322-126c-4d79-8ef8-86914ec82b6a",
   "metadata": {},
   "outputs": [],
   "source": []
  }
 ],
 "metadata": {
  "kernelspec": {
   "display_name": "Python 3 (ipykernel)",
   "language": "python",
   "name": "python3"
  },
  "language_info": {
   "codemirror_mode": {
    "name": "ipython",
    "version": 3
   },
   "file_extension": ".py",
   "mimetype": "text/x-python",
   "name": "python",
   "nbconvert_exporter": "python",
   "pygments_lexer": "ipython3",
   "version": "3.10.8"
  }
 },
 "nbformat": 4,
 "nbformat_minor": 5
}

{
 "cells": [
  {
   "cell_type": "code",
   "execution_count": 1,
   "id": "fd24f1f9-78e5-43e1-82ab-688bbf71c81b",
   "metadata": {},
   "outputs": [],
   "source": [
    "# Q1. Explain why we have to use the Exception class while creating a Custom Exception."
   ]
  },
  {
   "cell_type": "code",
   "execution_count": 3,
   "id": "96021f54-6a84-4b5c-8d31-f8e5219bdd29",
   "metadata": {},
   "outputs": [],
   "source": [
    "# By inheriting from the Exception class, a custom exception can take advantage of the built-in functionality for exception\n",
    "# handling, such as raising and catching exceptions, displaying error messages, and propagating errors up the call stack. \n",
    "# In addition, the Exception class provides a consistent interface for error handling across different libraries and \n",
    "# applications, which makes it easier to write ."
   ]
  },
  {
   "cell_type": "code",
   "execution_count": null,
   "id": "420a59d9-6b9f-483c-97bc-b792e9d4d9b4",
   "metadata": {},
   "outputs": [],
   "source": []
  },
  {
   "cell_type": "code",
   "execution_count": 4,
   "id": "a4076acc-80c1-4ba9-8b93-5b36daf76692",
   "metadata": {},
   "outputs": [],
   "source": [
    "# Q2. Write a python program to print Python Exception Hierarchy."
   ]
  },
  {
   "cell_type": "code",
   "execution_count": null,
   "id": "22e344c4-7f02-466d-9fe8-233feec7530c",
   "metadata": {},
   "outputs": [],
   "source": [
    "def print_exception_hierarchy(hyt):\n",
    "    print(type(hyt))\n",
    "    for subclass in hyt.__subclasses__():\n",
    "        print_exception_hierarchy(subclass)\n",
    "        \n",
    "print_exception_hierarchy(BaseException)"
   ]
  },
  {
   "cell_type": "code",
   "execution_count": null,
   "id": "0462b6ed-64ef-4f3f-9216-f74ba557b838",
   "metadata": {},
   "outputs": [],
   "source": []
  },
  {
   "cell_type": "code",
   "execution_count": 6,
   "id": "7bbef224-0417-4075-a743-db33d95eba19",
   "metadata": {},
   "outputs": [],
   "source": [
    "# Q3. What errors are defined in the ArithmeticError class? Explain any two with an example."
   ]
  },
  {
   "cell_type": "code",
   "execution_count": 7,
   "id": "9e744dfd-2b2f-4f7d-9841-0fc56d52a0c1",
   "metadata": {},
   "outputs": [],
   "source": [
    "# The ArithmeticError class is a built-in exception class in Python that serves as a base class for mathematical \n",
    "# errors.\n",
    "# FloatingPointError: Raised when a floating-point operation fails.\n",
    "# OverflowError: Raised when the result of an arithmetic operation exceeds the maximum representable value.\n",
    "# ZeroDivisionError: Raised when attempting to divide a number by zero.\n",
    "# UnderflowError: Raised when the result of an arithmetic operation is too small to be represented.\n",
    "# Here are two examples of ArithmeticError subclasses and their use cases:"
   ]
  },
  {
   "cell_type": "code",
   "execution_count": 12,
   "id": "f847c261-6fea-4443-b850-b6862f771a14",
   "metadata": {},
   "outputs": [
    {
     "name": "stdout",
     "output_type": "stream",
     "text": [
      "Error cannot divide by zero\n"
     ]
    }
   ],
   "source": [
    "#   1.\"ZeroDivisionError\":\n",
    "#           This exception is raised when we try to divide a number by zero.\n",
    "        \n",
    "#         for example:\n",
    "a = 10\n",
    "b = 0\n",
    "try:\n",
    "    c = a / b\n",
    "except ZeroDivisionError:\n",
    "    print(\"Error cannot divide by zero\")"
   ]
  },
  {
   "cell_type": "code",
   "execution_count": 13,
   "id": "bbd7bea4-d666-42ee-8332-1b31ed509aa4",
   "metadata": {},
   "outputs": [],
   "source": [
    "#  2.\"OverflowError\":\n",
    "#  This exception is raised when a calculation exceeds the maximum representable value for a numerical type\n",
    "# for example:\n",
    "\n",
    "import sys \n",
    "a = sys.maxsize\n",
    "try:\n",
    "    b = a * a\n",
    "except OverflowError:\n",
    "    print(\"Error:Result too large to represents as a number\")"
   ]
  },
  {
   "cell_type": "code",
   "execution_count": null,
   "id": "ea81c772-5c9a-4378-86e9-3a9eee07bdf4",
   "metadata": {},
   "outputs": [],
   "source": []
  },
  {
   "cell_type": "code",
   "execution_count": 14,
   "id": "02f91bb1-d92e-4264-aa9a-7e88c79f19f7",
   "metadata": {},
   "outputs": [],
   "source": [
    "#Q4. Why LookupError class is used? Explain with an example KeyError and IndexError."
   ]
  },
  {
   "cell_type": "code",
   "execution_count": 15,
   "id": "a8a927b2-586f-4a3d-8443-cd6b209c70af",
   "metadata": {},
   "outputs": [],
   "source": [
    "# The \"LookupError\" class is a built-in exception class in python that serves as a base class for all exceptions that occure\n",
    "# when a key or index not found during a lookup operation.It is a subclass of the \"Exception\"class and its itself the parent \n",
    "# class for several more specific lookup-related exception classes.\n",
    "    "
   ]
  },
  {
   "cell_type": "code",
   "execution_count": 18,
   "id": "d0529ed9-1a68-400c-b3bb-af27c87d9c6e",
   "metadata": {},
   "outputs": [
    {
     "name": "stdout",
     "output_type": "stream",
     "text": [
      "Error: Key 'd' not found in dictionary\n"
     ]
    }
   ],
   "source": [
    "#  1.KeyError- This exception is raised when a dictionary key is not found in the dictionary.\n",
    "    \n",
    "#      for example :\n",
    "my_dict = {'a': 1, 'b' : 2 ,'c' : 3}\n",
    "try:\n",
    "    value = my_dict['d']\n",
    "except KeyError:\n",
    "    print(\"Error: Key 'd' not found in dictionary\")"
   ]
  },
  {
   "cell_type": "code",
   "execution_count": 19,
   "id": "44cf36e2-4022-4ad9-a681-21d2418d5b1c",
   "metadata": {},
   "outputs": [
    {
     "name": "stdout",
     "output_type": "stream",
     "text": [
      "Error : Index 3 is out of range for list\n"
     ]
    }
   ],
   "source": [
    "#  2.IndexError: This exception is raised when we try to access an index that is out of range for alist \n",
    "# or other sequences.\n",
    "             \n",
    "#         for example:\n",
    "my_list = [1,2,3]\n",
    "try:\n",
    "    value = my_list[3]\n",
    "except IndexError:\n",
    "    print(\"Error : Index 3 is out of range for list\")"
   ]
  },
  {
   "cell_type": "code",
   "execution_count": null,
   "id": "d957532f-24a7-4dc1-8696-88a440263aa2",
   "metadata": {},
   "outputs": [],
   "source": []
  },
  {
   "cell_type": "code",
   "execution_count": 20,
   "id": "cbfcfbcf-bf52-4fc2-8dfe-dd90fcd76006",
   "metadata": {},
   "outputs": [],
   "source": [
    "# Q5. Explain ImportError. What is ModuleNotFoundError?"
   ]
  },
  {
   "cell_type": "code",
   "execution_count": 23,
   "id": "dddc0b98-bc77-4809-b034-ee779365b098",
   "metadata": {},
   "outputs": [],
   "source": [
    " # \"ImportError\" is a built-in Exception class in python that is raised when an imported module,package,or name cannot be found\n",
    " #    or loaded.This can occure due to various reasons such as misspelled module name,missing dependencies or incorrect python \n",
    " #    path settings.\n",
    " #    for example- \"ModuleNotFoundFrror\" is a more specific type of \"ImportError\" that was introduced in python 3.6.\n",
    "    \n",
    "#python 3.6 and later\n",
    "# import foo #raises ModuleNotFoundError: No module named 'foo'\n",
    "    \n",
    "#python 3.5 and earlier\n",
    "# import foo #raises ImportError: No module named 'foo'\n",
    "    \n",
    "#     \"ModuleNotFoundError\" some other types of \"ImportError\"that we may encounter include:\n",
    "        \n",
    "#         1.\"ImportError:cannot import name\"\n",
    "#         2.\"ImportError:DLL load failed\""
   ]
  },
  {
   "cell_type": "code",
   "execution_count": null,
   "id": "def713dd-4505-4a1b-b929-6019185b557e",
   "metadata": {},
   "outputs": [],
   "source": []
  },
  {
   "cell_type": "code",
   "execution_count": 24,
   "id": "27b9c654-aefe-40f8-bdd8-e48235a0a80e",
   "metadata": {},
   "outputs": [],
   "source": [
    "# Q6. List down some best practices for exception handling in python."
   ]
  },
  {
   "cell_type": "code",
   "execution_count": 25,
   "id": "cd07def7-931b-4232-b140-c072bbea5a6b",
   "metadata": {},
   "outputs": [],
   "source": [
    "# 1.use always a specific Exception.\n",
    "# 2.print always a proper message.\n",
    "# 3.always try to log your error.\n",
    "# 4.always avoid to write a multiple Exeption handling.\n",
    "# 5.ocument all the error\n",
    "# 6.cleanup all the resources"
   ]
  },
  {
   "cell_type": "code",
   "execution_count": null,
   "id": "498607ad-fad8-40b7-aace-c3add4caf5c0",
   "metadata": {},
   "outputs": [],
   "source": []
  }
 ],
 "metadata": {
  "kernelspec": {
   "display_name": "Python 3 (ipykernel)",
   "language": "python",
   "name": "python3"
  },
  "language_info": {
   "codemirror_mode": {
    "name": "ipython",
    "version": 3
   },
   "file_extension": ".py",
   "mimetype": "text/x-python",
   "name": "python",
   "nbconvert_exporter": "python",
   "pygments_lexer": "ipython3",
   "version": "3.10.8"
  }
 },
 "nbformat": 4,
 "nbformat_minor": 5
}
